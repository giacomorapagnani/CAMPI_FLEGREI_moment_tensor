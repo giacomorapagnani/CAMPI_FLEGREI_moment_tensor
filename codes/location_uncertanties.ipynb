{
 "cells": [
  {
   "cell_type": "code",
   "execution_count": 6,
   "id": "0069a7ae",
   "metadata": {},
   "outputs": [],
   "source": [
    "import numpy as np"
   ]
  },
  {
   "cell_type": "markdown",
   "id": "c3094fb2",
   "metadata": {},
   "source": [
    "# VLP"
   ]
  },
  {
   "cell_type": "code",
   "execution_count": 7,
   "id": "c00db01e",
   "metadata": {},
   "outputs": [],
   "source": [
    "# VLP\n",
    "n = np.array( (1400,700 ,700 ,700 ,800 ,700 ,1000 , 600,400 ,1200 ,700 ,1000 , 600,800))\n",
    "\n",
    "e = np.array(( 1700,900 ,700 ,1000 ,1100 ,1100 , 1200, 800,700 , 1700,1000 ,1300 ,800,1400) )\n",
    "\n",
    "r= np.sqrt( n**2 + e**2 )"
   ]
  },
  {
   "cell_type": "code",
   "execution_count": 8,
   "id": "0ec8dfbf",
   "metadata": {},
   "outputs": [
    {
     "name": "stdout",
     "output_type": "stream",
     "text": [
      "NORD shift (absolute values) [1400  700  700  700  800  700 1000  600  400 1200  700 1000  600  800]\n",
      "EAST shift (absolute values) [1700  900  700 1000 1100 1100 1200  800  700 1700 1000 1300  800 1400]\n",
      "RADIAL shift [2202.27155455 1140.1754251   989.94949366 1220.65556157 1360.14705087\n",
      " 1303.84048104 1562.04993518 1000.          806.22577483 2080.86520467\n",
      " 1220.65556157 1640.12194669 1000.         1612.45154966]\n",
      "mean NORD shift 807.1428571428571\n",
      "mean EAST shift 1100.0\n",
      "mean Radial shift 1367.1006813857634\n"
     ]
    }
   ],
   "source": [
    "print('NORD shift (absolute values)',n)\n",
    "print('EAST shift (absolute values)',e)\n",
    "print('RADIAL shift',r)\n",
    "print('mean NORD shift',np.mean(n))\n",
    "print('mean EAST shift',np.mean(e))\n",
    "print('mean Radial shift',np.mean(r))"
   ]
  },
  {
   "cell_type": "markdown",
   "id": "fc624248",
   "metadata": {},
   "source": [
    "# VT, cluster 4"
   ]
  },
  {
   "cell_type": "code",
   "execution_count": 9,
   "id": "de7b348d",
   "metadata": {},
   "outputs": [],
   "source": [
    "# VT, cluster 4\n",
    "n = np.array( (-1700 ,-2200 ,-2300 ,-1140 ,-1000 ,-600 ,-1700 ,-200  ,-1140 ,-1500 ,-1200))\n",
    "e = np.array(( 200   ,-1000 ,500   ,-2200 ,600   ,300  ,-1200 ,800.  ,-3000 ,-200  ,-400) )\n",
    "\n",
    "r= np.sqrt( n**2 + e**2 )"
   ]
  },
  {
   "cell_type": "code",
   "execution_count": 10,
   "id": "d8953ad1",
   "metadata": {},
   "outputs": [
    {
     "name": "stdout",
     "output_type": "stream",
     "text": [
      "NORD shift (absolute values) [-1700 -2200 -2300 -1140 -1000  -600 -1700  -200 -1140 -1500 -1200]\n",
      "EAST shift (absolute values) [  200. -1000.   500. -2200.   600.   300. -1200.   800. -3000.  -200.\n",
      "  -400.]\n",
      "RADIAL shift [1711.72427686 2416.60919472 2353.72045919 2477.82162393 1166.19037897\n",
      "  670.82039325 2080.86520467  824.62112512 3209.29898888 1513.27459504\n",
      " 1264.91106407]\n",
      "mean NORD shift -1334.5454545454545\n",
      "mean EAST shift -509.09090909090907\n",
      "mean Radial shift 1789.9870276993308\n"
     ]
    }
   ],
   "source": [
    "print('NORD shift (absolute values)',n)\n",
    "print('EAST shift (absolute values)',e)\n",
    "print('RADIAL shift',r)\n",
    "print('mean NORD shift',np.mean(n))\n",
    "print('mean EAST shift',np.mean(e))\n",
    "print('mean Radial shift',np.mean(r))"
   ]
  }
 ],
 "metadata": {
  "kernelspec": {
   "display_name": "Python 3",
   "language": "python",
   "name": "python3"
  },
  "language_info": {
   "codemirror_mode": {
    "name": "ipython",
    "version": 3
   },
   "file_extension": ".py",
   "mimetype": "text/x-python",
   "name": "python",
   "nbconvert_exporter": "python",
   "pygments_lexer": "ipython3",
   "version": "3.11.11"
  }
 },
 "nbformat": 4,
 "nbformat_minor": 5
}
