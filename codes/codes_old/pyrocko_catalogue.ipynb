{
 "cells": [
  {
   "cell_type": "markdown",
   "metadata": {},
   "source": [
    "### Create .pf Catalogues from INGV and OV obspy catalogues (all events included)"
   ]
  },
  {
   "cell_type": "code",
   "execution_count": 1,
   "metadata": {},
   "outputs": [],
   "source": [
    "from pyrocko import util, model, io, trace, moment_tensor, gmtpy\n",
    "from pyrocko import pz\n",
    "from pyrocko import orthodrome as od\n",
    "from pyrocko.io import quakeml\n",
    "from pyrocko.io import stationxml as fdsn\n",
    "from pyrocko.client import catalog\n",
    "from pyrocko.automap import Map\n",
    "import pyrocko.moment_tensor as pmt\n",
    "from seiscloud import plot as scp\n",
    "from seiscloud import cluster as scc\n",
    "import numpy as num\n",
    "import os, sys, re, math, shutil\n",
    "import matplotlib.pyplot as plt\n",
    "from matplotlib import collections  as mc\n",
    "from matplotlib import dates\n",
    "import datetime\n",
    "import urllib.request\n",
    "from pyrocko.plot.gmtpy import GMT\n",
    "\n",
    "from obspy import read_events"
   ]
  },
  {
   "cell_type": "code",
   "execution_count": 2,
   "metadata": {},
   "outputs": [],
   "source": [
    "catINGV=read_events('/Users/giaco/UNI/GIT/seis/FLEGREI/flegrei_2014_2023_INGV/catalogue_flegrei_INGV.xml')      #old path\n",
    "catOV=read_events('/Users/giaco/UNI/GIT/seis/FLEGREI/flegrei_2014_2023_GOSSIP/catalogue_flegrei_GOSSIP.xml')    #old path\n",
    "#catOV=read_events('/Users/giaco/UNI/PhD_CODE/Campi_Flegrei(stefania_danesi)/catalogue_flegrei_OV.xml')    #stefania danesi\n",
    "#catURG=read_events('../CAT/catalogue_flegrei_URG.xml')      #URG\n"
   ]
  },
  {
   "cell_type": "code",
   "execution_count": 3,
   "metadata": {},
   "outputs": [],
   "source": [
    "workdir='../'\n",
    "catdir =  os.path.join(workdir,'CAT')"
   ]
  },
  {
   "cell_type": "markdown",
   "metadata": {},
   "source": [
    "# INGV"
   ]
  },
  {
   "cell_type": "code",
   "execution_count": 4,
   "metadata": {},
   "outputs": [
    {
     "name": "stdout",
     "output_type": "stream",
     "text": [
      "Number of events: 2\n"
     ]
    }
   ],
   "source": [
    "# reformat local catalog from INGV\n",
    "catname = os.path.join(catdir, 'catologue_flegrei_INGV.pf')\n",
    "\n",
    "events = []\n",
    "\n",
    "for ev in catINGV:\n",
    "    name= str(ev.resource_id).split('=')[1]\n",
    "\n",
    "    timetmp= str(ev.origins[0].time)\n",
    "    timestr = timetmp[0:10] + ' ' + timetmp[11:23]                                        # format: '2010-01-01 00:00:00.000'\n",
    "    time = util.str_to_time(timestr)\n",
    "\n",
    "    lat=    float( ev.origins[0].latitude )\n",
    "    lon =   float( ev.origins[0].longitude )\n",
    "    depth = float( ev.origins[0].depth )\n",
    "    magnitude = float( ev.magnitudes[0].mag )\n",
    "    events.append(model.Event(name=name, time=time,\n",
    "                              lat=lat, lon=lon,\n",
    "                              depth=depth, magnitude=magnitude))\n",
    "events.sort(key=lambda x: x.time, reverse=False)\n",
    "model.dump_events(events, catname)\n",
    "print('Number of events:', len(events))"
   ]
  },
  {
   "cell_type": "code",
   "execution_count": null,
   "metadata": {},
   "outputs": [],
   "source": [
    "catname = os.path.join(catdir, 'catologue_flegrei_INGV.pf')\n",
    "events = model.load_events(catname)\n",
    "print('Number of events:', len(events))"
   ]
  },
  {
   "cell_type": "markdown",
   "metadata": {},
   "source": [
    "#  GOSSIP (OV)"
   ]
  },
  {
   "cell_type": "code",
   "execution_count": 4,
   "metadata": {},
   "outputs": [
    {
     "name": "stdout",
     "output_type": "stream",
     "text": [
      "Number of events: 57\n"
     ]
    }
   ],
   "source": [
    "# STEP 1.1\n",
    "# Seismic catalog:\n",
    "# reformat local catalog from OV GOSSIP\n",
    "\n",
    "catname = os.path.join(catdir, 'catologue_flegrei_GOSSIP_complete.pf')\n",
    "\n",
    "events = []\n",
    "\n",
    "for ev in catOV:\n",
    "    name= str(ev.resource_id).split('/')[1]\n",
    "\n",
    "    timetmp= str(ev.origins[0].time)\n",
    "    timestr = timetmp[0:10] + ' ' + timetmp[11:23]                                        # format: '2010-01-01 00:00:00.000'\n",
    "    time = util.str_to_time(timestr)\n",
    "\n",
    "    magnitude = ev.magnitudes[0].mag \n",
    "\n",
    "    lat=ev.origins[0].latitude\n",
    "    lon =   ev.origins[0].longitude\n",
    "    depth = ev.origins[0].depth\n",
    "\n",
    "    if lat==None and lon==None and depth==None :\n",
    "        events.append(model.Event(name=name, time=time,\n",
    "                                    magnitude=magnitude))\n",
    "\n",
    "    else:\n",
    "        events.append(model.Event(name=name, time=time,\n",
    "                              lat=lat, lon=lon,\n",
    "                              depth=depth, magnitude=magnitude))\n",
    "    \n",
    "events.sort(key=lambda x: x.time, reverse=False)\n",
    "model.dump_events(events, catname)\n",
    "\n",
    "print('Number of events:', len(events))"
   ]
  },
  {
   "cell_type": "code",
   "execution_count": null,
   "metadata": {},
   "outputs": [],
   "source": [
    "catname = os.path.join(catdir, 'catologue_flegrei_GOSSIP_complete.pf')\n",
    "\n",
    "events = model.load_events(catname)\n",
    "print('Number of events:', len(events))"
   ]
  },
  {
   "cell_type": "markdown",
   "metadata": {},
   "source": [
    "## GOSSIP only events with magnitude and location"
   ]
  },
  {
   "cell_type": "code",
   "execution_count": null,
   "metadata": {},
   "outputs": [],
   "source": [
    "# Seismic catalog:\n",
    "# reformat local catalog from OV GOSSIP\n",
    "\n",
    "catname = os.path.join(catdir, 'catologue_flegrei_GOSSIP.pf')\n",
    "\n",
    "events = []\n",
    "\n",
    "for ev in catOV:\n",
    "    name= str(ev.resource_id).split('/')[1]\n",
    "\n",
    "    timetmp= str(ev.origins[0].time)\n",
    "    timestr = timetmp[0:10] + ' ' + timetmp[11:23]                                        # format: '2010-01-01 00:00:00.000'\n",
    "    time = util.str_to_time(timestr)\n",
    "\n",
    "    magnitude = ev.magnitudes[0].mag \n",
    "\n",
    "    lat=ev.origins[0].latitude\n",
    "    lon =   ev.origins[0].longitude\n",
    "    depth = ev.origins[0].depth\n",
    "\n",
    "    if lat!=None and lon!=None and depth!=None and magnitude!=None :\n",
    "        \n",
    "        events.append(model.Event(name=name, time=time,\n",
    "                              lat=lat, lon=lon,\n",
    "                              depth=depth, magnitude=magnitude))\n",
    "    \n",
    "events.sort(key=lambda x: x.time, reverse=False)\n",
    "model.dump_events(events, catname)\n",
    "\n",
    "print('Number of events:', len(events))"
   ]
  },
  {
   "cell_type": "code",
   "execution_count": 52,
   "metadata": {},
   "outputs": [
    {
     "ename": "FileNotFoundError",
     "evalue": "[Errno 2] No such file or directory: '../CAT/catalogue_flegrei_INGV.pf'",
     "output_type": "error",
     "traceback": [
      "\u001b[0;31m---------------------------------------------------------------------------\u001b[0m",
      "\u001b[0;31mFileNotFoundError\u001b[0m                         Traceback (most recent call last)",
      "Cell \u001b[0;32mIn[52], line 2\u001b[0m\n\u001b[1;32m      1\u001b[0m catname \u001b[38;5;241m=\u001b[39m os\u001b[38;5;241m.\u001b[39mpath\u001b[38;5;241m.\u001b[39mjoin(catdir, \u001b[38;5;124m'\u001b[39m\u001b[38;5;124mcatalogue_flegrei_INGV.pf\u001b[39m\u001b[38;5;124m'\u001b[39m)\n\u001b[0;32m----> 2\u001b[0m events \u001b[38;5;241m=\u001b[39m \u001b[43mmodel\u001b[49m\u001b[38;5;241;43m.\u001b[39;49m\u001b[43mload_events\u001b[49m\u001b[43m(\u001b[49m\u001b[43mcatname\u001b[49m\u001b[43m)\u001b[49m\n\u001b[1;32m      3\u001b[0m \u001b[38;5;28mprint\u001b[39m(\u001b[38;5;124m'\u001b[39m\u001b[38;5;124mNumber of events:\u001b[39m\u001b[38;5;124m'\u001b[39m, \u001b[38;5;28mlen\u001b[39m(events))\n",
      "File \u001b[0;32m/opt/homebrew/lib/python3.11/site-packages/pyrocko/model/event.py:468\u001b[0m, in \u001b[0;36mload_events\u001b[0;34m(filename, format)\u001b[0m\n\u001b[1;32m    465\u001b[0m         \u001b[38;5;28;01mreturn\u001b[39;00m load_events(fp\u001b[38;5;241m.\u001b[39mname, \u001b[38;5;28mformat\u001b[39m\u001b[38;5;241m=\u001b[39m\u001b[38;5;28mformat\u001b[39m)\n\u001b[1;32m    467\u001b[0m \u001b[38;5;28;01mif\u001b[39;00m \u001b[38;5;28mformat\u001b[39m \u001b[38;5;241m==\u001b[39m \u001b[38;5;124m'\u001b[39m\u001b[38;5;124mdetect\u001b[39m\u001b[38;5;124m'\u001b[39m:\n\u001b[0;32m--> 468\u001b[0m     \u001b[38;5;28mformat\u001b[39m \u001b[38;5;241m=\u001b[39m \u001b[43mdetect_format\u001b[49m\u001b[43m(\u001b[49m\u001b[43mfilename\u001b[49m\u001b[43m)\u001b[49m\n\u001b[1;32m    470\u001b[0m \u001b[38;5;28;01mif\u001b[39;00m \u001b[38;5;28mformat\u001b[39m \u001b[38;5;241m==\u001b[39m \u001b[38;5;124m'\u001b[39m\u001b[38;5;124myaml\u001b[39m\u001b[38;5;124m'\u001b[39m:\n\u001b[1;32m    471\u001b[0m     \u001b[38;5;28;01mfrom\u001b[39;00m \u001b[38;5;21;01mpyrocko\u001b[39;00m \u001b[38;5;28;01mimport\u001b[39;00m guts\n",
      "File \u001b[0;32m/opt/homebrew/lib/python3.11/site-packages/pyrocko/model/event.py:439\u001b[0m, in \u001b[0;36mdetect_format\u001b[0;34m(filename)\u001b[0m\n\u001b[1;32m    438\u001b[0m \u001b[38;5;28;01mdef\u001b[39;00m \u001b[38;5;21mdetect_format\u001b[39m(filename):\n\u001b[0;32m--> 439\u001b[0m     \u001b[38;5;28;01mwith\u001b[39;00m \u001b[38;5;28;43mopen\u001b[39;49m\u001b[43m(\u001b[49m\u001b[43mfilename\u001b[49m\u001b[43m,\u001b[49m\u001b[43m \u001b[49m\u001b[38;5;124;43m'\u001b[39;49m\u001b[38;5;124;43mr\u001b[39;49m\u001b[38;5;124;43m'\u001b[39;49m\u001b[43m)\u001b[49m \u001b[38;5;28;01mas\u001b[39;00m f:\n\u001b[1;32m    440\u001b[0m         \u001b[38;5;28;01mfor\u001b[39;00m line \u001b[38;5;129;01min\u001b[39;00m f:\n\u001b[1;32m    441\u001b[0m             line \u001b[38;5;241m=\u001b[39m line\u001b[38;5;241m.\u001b[39mstrip()\n",
      "\u001b[0;31mFileNotFoundError\u001b[0m: [Errno 2] No such file or directory: '../CAT/catalogue_flegrei_INGV.pf'"
     ]
    }
   ],
   "source": [
    "catname = os.path.join(catdir, 'catalogue_flegrei_INGV.pf')\n",
    "events = model.load_events(catname)\n",
    "print('Number of events:', len(events))"
   ]
  }
 ],
 "metadata": {
  "kernelspec": {
   "display_name": "Python 3",
   "language": "python",
   "name": "python3"
  },
  "language_info": {
   "codemirror_mode": {
    "name": "ipython",
    "version": 3
   },
   "file_extension": ".py",
   "mimetype": "text/x-python",
   "name": "python",
   "nbconvert_exporter": "python",
   "pygments_lexer": "ipython3",
   "version": "3.11.7"
  }
 },
 "nbformat": 4,
 "nbformat_minor": 2
}
