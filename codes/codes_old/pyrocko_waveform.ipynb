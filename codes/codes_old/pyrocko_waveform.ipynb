{
 "cells": [
  {
   "cell_type": "markdown",
   "metadata": {},
   "source": [
    "### Download waveforms with obspy from station.xml and catalogue.pf"
   ]
  },
  {
   "cell_type": "code",
   "execution_count": 2,
   "metadata": {},
   "outputs": [],
   "source": [
    "from pyrocko import util, model, io, trace, moment_tensor, gmtpy\n",
    "from pyrocko import pz\n",
    "from pyrocko import orthodrome as od\n",
    "from pyrocko.io import quakeml\n",
    "from pyrocko.io import stationxml as fdsn\n",
    "from pyrocko.client import catalog\n",
    "from pyrocko.automap import Map\n",
    "import pyrocko.moment_tensor as pmt\n",
    "from seiscloud import plot as scp\n",
    "from seiscloud import cluster as scc\n",
    "import numpy as num\n",
    "import os, sys, re, math, shutil\n",
    "import matplotlib.pyplot as plt\n",
    "from matplotlib import collections  as mc\n",
    "from matplotlib import dates\n",
    "import datetime\n",
    "import urllib.request\n",
    "from pyrocko.plot.gmtpy import GMT\n",
    "from zoneinfo import ZoneInfo\n",
    "\n",
    "#obspy\n",
    "from obspy import read_inventory\n",
    "from obspy.core.stream import Stream\n",
    "from obspy.clients.fdsn.client import Client\n",
    "from obspy import UTCDateTime\n",
    "import pytz"
   ]
  },
  {
   "cell_type": "code",
   "execution_count": 3,
   "metadata": {},
   "outputs": [],
   "source": [
    "workdir='../'\n",
    "catdir =  os.path.join(workdir,'CAT')\n",
    "meta_datadir=os.path.join(workdir,'META_DATA')\n",
    "datadir=os.path.join(workdir,'DATA2')                #CHANGE"
   ]
  },
  {
   "cell_type": "code",
   "execution_count": 4,
   "metadata": {},
   "outputs": [
    {
     "name": "stdout",
     "output_type": "stream",
     "text": [
      "Number of events: 81\n"
     ]
    }
   ],
   "source": [
    "catname = os.path.join(catdir, 'catalogue_flegrei_mag_2_5.pf')           #CHANGE\n",
    "\n",
    "cat = model.load_events(catname)\n",
    "print('Number of events:', len(cat))"
   ]
  },
  {
   "cell_type": "code",
   "execution_count": 6,
   "metadata": {},
   "outputs": [
    {
     "name": "stdout",
     "output_type": "stream",
     "text": [
      "Inventory created at 2024-01-16T14:42:48.667000Z\n",
      "\tCreated by: INGV-ONT WEB SERVICE: fdsnws-station | version: 1.1.57\n",
      "\t\t    /exist/apps/fdsn-station/fdsnws/station/1/query?starttime=2014-01-...\n",
      "\tSending institution: eXistDB (INGV-ONT)\n",
      "\tContains:\n",
      "\t\tNetworks (2):\n",
      "\t\t\tIV, IX\n",
      "\t\tStations (24):\n",
      "\t\t\tIV.CAAM (Accademia Aeronautica Pozzuoli)\n",
      "\t\t\tIV.CAFL (Arco Felice)\n",
      "\t\t\tIV.CAWE (Astroni Ovest - Stazione Osservatorio Vesuviano)\n",
      "\t\t\tIV.CBAC (Campi Flegrei, Castello di Baia - Stazione Osservatorio Vesu)\n",
      "\t\t\tIV.CCAP (Capo Posillipo C. acqisiz. - Stazione Osservatorio Vesuviano)\n",
      "\t\t\tIV.CFMN (Monte Nuovo)\n",
      "\t\t\tIV.CMIS (Faro di Capo Miseno - Stazione Osservatorio Vesuviano)\n",
      "\t\t\tIV.CMSN (Monte S.Angelo)\n",
      "\t\t\tIV.CMTS (Campi Flegrei, Via Metastasio CNR-IRC)\n",
      "\t\t\tIV.CNIS (Campi Flegrei - Isola di Nisida)\n",
      "\t\t\tIV.COLB (Campi Flegrei, Galleria Monte Olibano, Stazione Osservatorio)\n",
      "\t\t\tIV.CPIS (Campi Flegrei - Fumarola Pisciarelli)\n",
      "\t\t\tIV.CPOZ (Darsena Pozzuoli - Stazione Osservatorio Vesuviano)\n",
      "\t\t\tIV.CQUE (Campi Flegrei Quarto EST - Stazione Osservatorio Vesuviano)\n",
      "\t\t\tIV.CSFT (Campi Flegrei - Cratere Solfatara, Interno)\n",
      "\t\t\tIV.CSOB (Solfatara Bordo Cratere - Stazione Osservatorio Vesuviano)\n",
      "\t\t\tIV.CSTH (Solfatara Tennis Hotel - Stazione Osservatorio Vesuviano)\n",
      "\t\t\tIV.IOCA (Ischia - Osservatorio Casamicciola)\n",
      "\t\t\tIV.MODR (Mondragone)\n",
      "\t\t\tIV.OVO (OSSERVATORIO VESUVIANO)\n",
      "\t\t\tIV.PAOL (Paolisi)\n",
      "\t\t\tIV.PIGN (Pignataro Maggiore (CE))\n",
      "\t\t\tIV.SORR (Penisola sorrentina - Stazione Osservatorio Vesuviano)\n",
      "\t\t\tIX.NAPI (Station Complesso Universitario Monte Sant`Angelo, Italy)\n",
      "\t\tChannels (192):\n",
      "\t\t\tIV.CAAM..HHZ (2x), IV.CAAM..HHN (2x), IV.CAAM..HHE (2x), \n",
      "\t\t\tIV.CAAM..HNZ, IV.CAAM..HNN, IV.CAAM..HNE, IV.CAFL..HHZ, \n",
      "\t\t\tIV.CAFL..HHN, IV.CAFL..HHE, IV.CAWE..EHZ, IV.CAWE..EHN, \n",
      "\t\t\tIV.CAWE..EHE, IV.CBAC..EHZ, IV.CBAC..EHN, IV.CBAC..EHE, \n",
      "\t\t\tIV.CBAC..HHZ, IV.CBAC..HHN, IV.CBAC..HHE, IV.CBAC..HNZ, \n",
      "\t\t\tIV.CBAC..HNN, IV.CBAC..HNE, IV.CCAP..EHZ, IV.CCAP..EHN, \n",
      "\t\t\tIV.CCAP..EHE, IV.CFMN..HHZ (2x), IV.CFMN..HHN (2x), \n",
      "\t\t\tIV.CFMN..HHE (2x), IV.CFMN..HNZ, IV.CFMN..HNN, IV.CFMN..HNE, \n",
      "\t\t\tIV.CMIS..HHZ (2x), IV.CMIS..HHN (2x), IV.CMIS..HHE (2x), \n",
      "\t\t\tIV.CMIS..HNZ, IV.CMIS..HNN, IV.CMIS..HNE, IV.CMSN..HHZ, \n",
      "\t\t\tIV.CMSN..HHN, IV.CMSN..HHE, IV.CMTS..EHZ, IV.CMTS..EHN, \n",
      "\t\t\tIV.CMTS..EHE, IV.CNIS..HHZ, IV.CNIS..HHN, IV.CNIS..HHE, \n",
      "\t\t\tIV.CNIS..HNZ (2x), IV.CNIS..HNN (2x), IV.CNIS..HNE (2x), \n",
      "\t\t\tIV.COLB..HHZ (2x), IV.COLB..HHN (2x), IV.COLB..HHE (2x), \n",
      "\t\t\tIV.COLB..HNZ, IV.COLB..HNN, IV.COLB..HNE, IV.CPIS..HHZ (2x), \n",
      "\t\t\tIV.CPIS..HHN (2x), IV.CPIS..HHE (2x), IV.CPOZ..HHZ (3x), \n",
      "\t\t\tIV.CPOZ..HHN (3x), IV.CPOZ..HHE (3x), IV.CPOZ..HNZ, IV.CPOZ..HNN, \n",
      "\t\t\tIV.CPOZ..HNE, IV.CQUE..HHZ, IV.CQUE..HHN, IV.CQUE..HHE, \n",
      "\t\t\tIV.CQUE..HNZ (2x), IV.CQUE..HNN (2x), IV.CQUE..HNE (2x), \n",
      "\t\t\tIV.CSFT..HHZ, IV.CSFT..HHN, IV.CSFT..HHE, IV.CSOB..HHZ (2x), \n",
      "\t\t\tIV.CSOB..HHN (2x), IV.CSOB..HHE (2x), IV.CSOB..HNZ (2x), \n",
      "\t\t\tIV.CSOB..HNN (2x), IV.CSOB..HNE (2x), IV.CSTH..EHZ, IV.CSTH..EHN, \n",
      "\t\t\tIV.CSTH..EHE, IV.CSTH..HHZ, IV.CSTH..HHN, IV.CSTH..HHE, \n",
      "\t\t\tIV.CSTH..HNZ, IV.CSTH..HNN, IV.CSTH..HNE, IV.IOCA..HHZ (2x), \n",
      "\t\t\tIV.IOCA..HHN (2x), IV.IOCA..HHE (2x), IV.IOCA..HNZ (2x), \n",
      "\t\t\tIV.IOCA..HNN (2x), IV.IOCA..HNE (2x), IV.MODR..BHZ, IV.MODR..BHN, \n",
      "\t\t\tIV.MODR..BHE, IV.MODR..HHZ, IV.MODR..HHN, IV.MODR..HHE, \n",
      "\t\t\tIV.MODR..LHZ, IV.MODR..LHN, IV.MODR..LHE, IV.MODR..VHZ, \n",
      "\t\t\tIV.MODR..VHN, IV.MODR..VHE, IV.OVO..HHZ, IV.OVO..HHN, IV.OVO..HHE, \n",
      "\t\t\tIV.PAOL..BHZ, IV.PAOL..BHN, IV.PAOL..BHE, IV.PAOL..HHZ, \n",
      "\t\t\tIV.PAOL..HHN, IV.PAOL..HHE, IV.PAOL..HNZ, IV.PAOL..HNN, \n",
      "\t\t\tIV.PAOL..HNE, IV.PAOL..LHZ, IV.PAOL..LHN, IV.PAOL..LHE, \n",
      "\t\t\tIV.PAOL..VHZ, IV.PAOL..VHN, IV.PAOL..VHE, IV.PIGN..BHZ, \n",
      "\t\t\tIV.PIGN..BHN, IV.PIGN..BHE, IV.PIGN..HHZ (2x), IV.PIGN..HHN (2x), \n",
      "\t\t\tIV.PIGN..HHE (2x), IV.PIGN..HNZ (2x), IV.PIGN..HNN (2x), \n",
      "\t\t\tIV.PIGN..HNE (2x), IV.PIGN..LHZ, IV.PIGN..LHN, IV.PIGN..LHE, \n",
      "\t\t\tIV.PIGN..VHZ, IV.PIGN..VHN, IV.PIGN..VHE, IV.SORR..HHZ, \n",
      "\t\t\tIV.SORR..HHN, IV.SORR..HHE, IV.SORR..HNZ, IV.SORR..HNN, \n",
      "\t\t\tIV.SORR..HNE, IX.NAPI.01.HNZ, IX.NAPI.01.HNN, IX.NAPI.01.HNE\n"
     ]
    }
   ],
   "source": [
    "client=Client('INGV')\n",
    "stations_name=os.path.join(meta_datadir, 'stations_flegrei_INGV_2.xml')           #CHANGE\n",
    "stations=read_inventory(stations_name)                                 #read\n",
    "\n",
    "print(stations)"
   ]
  },
  {
   "cell_type": "code",
   "execution_count": null,
   "metadata": {},
   "outputs": [],
   "source": [
    "################################################################################\n",
    "########## DO NOT USE !!!datetime.datetime.fromtimestamp(ev.time)!!! ##########\n",
    "################################################################################\n",
    "\n",
    "t = util.time_to_str(cat[0].time)\n",
    "print(t)\n",
    "UTCDateTime(t)-20\n"
   ]
  },
  {
   "cell_type": "code",
   "execution_count": 8,
   "metadata": {},
   "outputs": [
    {
     "name": "stdout",
     "output_type": "stream",
     "text": [
      "origin UTC time event: 2024-05-20 19:46:14.140\n",
      "extimated magnitude: None\n",
      "traces found: 54\n",
      "saved!\n",
      "origin UTC time event: 2024-05-20 19:55:37.759\n",
      "extimated magnitude: None\n"
     ]
    },
    {
     "name": "stderr",
     "output_type": "stream",
     "text": [
      "/opt/homebrew/lib/python3.11/site-packages/obspy/io/mseed/core.py:821: UserWarning: File will be written with more than one different encodings.\n",
      "This might have a negative influence on the compatibility with other programs.\n",
      "  warnings.warn(msg % 'encodings')\n"
     ]
    },
    {
     "name": "stdout",
     "output_type": "stream",
     "text": [
      "traces found: 54\n",
      "saved!\n",
      "origin UTC time event: 2024-05-20 21:00:55.200\n",
      "extimated magnitude: None\n"
     ]
    },
    {
     "name": "stderr",
     "output_type": "stream",
     "text": [
      "/opt/homebrew/lib/python3.11/site-packages/obspy/io/mseed/core.py:821: UserWarning: File will be written with more than one different encodings.\n",
      "This might have a negative influence on the compatibility with other programs.\n",
      "  warnings.warn(msg % 'encodings')\n"
     ]
    },
    {
     "name": "stdout",
     "output_type": "stream",
     "text": [
      "traces found: 54\n",
      "saved!\n",
      "origin UTC time event: 2024-05-20 22:55:54.349\n",
      "extimated magnitude: None\n"
     ]
    },
    {
     "name": "stderr",
     "output_type": "stream",
     "text": [
      "/opt/homebrew/lib/python3.11/site-packages/obspy/io/mseed/core.py:821: UserWarning: File will be written with more than one different encodings.\n",
      "This might have a negative influence on the compatibility with other programs.\n",
      "  warnings.warn(msg % 'encodings')\n"
     ]
    },
    {
     "name": "stdout",
     "output_type": "stream",
     "text": [
      "traces found: 54\n",
      "saved!\n",
      "origin UTC time event: 2024-05-22 06:28:00.359\n",
      "extimated magnitude: None\n"
     ]
    },
    {
     "name": "stderr",
     "output_type": "stream",
     "text": [
      "/opt/homebrew/lib/python3.11/site-packages/obspy/io/mseed/core.py:821: UserWarning: File will be written with more than one different encodings.\n",
      "This might have a negative influence on the compatibility with other programs.\n",
      "  warnings.warn(msg % 'encodings')\n"
     ]
    },
    {
     "name": "stdout",
     "output_type": "stream",
     "text": [
      "traces found: 54\n",
      "saved!\n"
     ]
    },
    {
     "name": "stderr",
     "output_type": "stream",
     "text": [
      "/opt/homebrew/lib/python3.11/site-packages/obspy/io/mseed/core.py:821: UserWarning: File will be written with more than one different encodings.\n",
      "This might have a negative influence on the compatibility with other programs.\n",
      "  warnings.warn(msg % 'encodings')\n"
     ]
    }
   ],
   "source": [
    "for ev in cat[-5:]:\n",
    "    evID=ev.name\n",
    "\n",
    "    #transform UTC time\n",
    "    t = util.time_to_str(ev.time)\n",
    "\n",
    "    print('origin UTC time event:',t)\n",
    "    print('extimated magnitude:',ev.magnitude)\n",
    "\n",
    "    event_start = UTCDateTime(t) - 40                               #CHANGE: -20 normal, -40 far_only\n",
    "    #print('event starts at:',event_start)\n",
    "\n",
    "    event_end=UTCDateTime(t) + 140                                    #CHANGE: +40 normal, +140 far_only\n",
    "    #print('event ends at:',event_end)\n",
    "\n",
    "\n",
    "    wave=Stream()\n",
    "    for network in stations:\n",
    "        for  station in network.stations:\n",
    "            try:\n",
    "                wave += client.get_waveforms(starttime=event_start,endtime=event_end,\n",
    "                                    network=network.code,station=station.code,location='*', channel='HH?',\n",
    "                                    attach_response=True)\n",
    "            except:\n",
    "                #print(station.code , 'station not recording')\n",
    "                continue\n",
    "\n",
    "    print('traces found:',len(wave.traces))    \n",
    "\n",
    "    waveletdir=os.path.join(datadir,evID)\n",
    "\n",
    "    if os.path.isdir(waveletdir):\n",
    "        os.rmdir(waveletdir)\n",
    "\n",
    "    os.mkdir(waveletdir)\n",
    "\n",
    "    wavelet_name= os.path.join(waveletdir,evID)  \n",
    "    wave.write(wavelet_name +'.mseed',format='MSEED')\n",
    "    print('saved!')"
   ]
  }
 ],
 "metadata": {
  "kernelspec": {
   "display_name": "Python 3",
   "language": "python",
   "name": "python3"
  },
  "language_info": {
   "codemirror_mode": {
    "name": "ipython",
    "version": 3
   },
   "file_extension": ".py",
   "mimetype": "text/x-python",
   "name": "python",
   "nbconvert_exporter": "python",
   "pygments_lexer": "ipython3",
   "version": "3.11.7"
  }
 },
 "nbformat": 4,
 "nbformat_minor": 2
}
