{
 "cells": [
  {
   "cell_type": "markdown",
   "metadata": {},
   "source": [
    "### Create station .pf file from station .xml file"
   ]
  },
  {
   "cell_type": "code",
   "execution_count": 1,
   "metadata": {},
   "outputs": [],
   "source": [
    "import numpy as np\n",
    "import matplotlib.pyplot as plt\n",
    "import os\n",
    "import pandas as pd\n",
    "from obspy import UTCDateTime\n",
    "from obspy.core.event import Catalog\n",
    "from obspy.core.event import Event\n",
    "from obspy.core.event import Origin\n",
    "from obspy.core.event import Magnitude\n",
    "from obspy.core.event.base import Comment\n",
    "from obspy.core.event import ResourceIdentifier\n",
    "from obspy import read_events\n",
    "from obspy import read_inventory"
   ]
  },
  {
   "cell_type": "code",
   "execution_count": 2,
   "metadata": {},
   "outputs": [
    {
     "name": "stdout",
     "output_type": "stream",
     "text": [
      "Inventory created at 2024-01-16T14:42:48.667000Z\n",
      "\tCreated by: INGV-ONT WEB SERVICE: fdsnws-station | version: 1.1.57\n",
      "\t\t    /exist/apps/fdsn-station/fdsnws/station/1/query?starttime=2014-01-...\n",
      "\tSending institution: eXistDB (INGV-ONT)\n",
      "\tContains:\n",
      "\t\tNetworks (2):\n",
      "\t\t\tIV, IX\n",
      "\t\tStations (24):\n",
      "\t\t\tIV.CAAM (Accademia Aeronautica Pozzuoli)\n",
      "\t\t\tIV.CAFL (Arco Felice)\n",
      "\t\t\tIV.CAWE (Astroni Ovest - Stazione Osservatorio Vesuviano)\n",
      "\t\t\tIV.CBAC (Campi Flegrei, Castello di Baia - Stazione Osservatorio Vesu)\n",
      "\t\t\tIV.CCAP (Capo Posillipo C. acqisiz. - Stazione Osservatorio Vesuviano)\n",
      "\t\t\tIV.CFMN (Monte Nuovo)\n",
      "\t\t\tIV.CMIS (Faro di Capo Miseno - Stazione Osservatorio Vesuviano)\n",
      "\t\t\tIV.CMSN (Monte S.Angelo)\n",
      "\t\t\tIV.CMTS (Campi Flegrei, Via Metastasio CNR-IRC)\n",
      "\t\t\tIV.CNIS (Campi Flegrei - Isola di Nisida)\n",
      "\t\t\tIV.COLB (Campi Flegrei, Galleria Monte Olibano, Stazione Osservatorio)\n",
      "\t\t\tIV.CPIS (Campi Flegrei - Fumarola Pisciarelli)\n",
      "\t\t\tIV.CPOZ (Darsena Pozzuoli - Stazione Osservatorio Vesuviano)\n",
      "\t\t\tIV.CQUE (Campi Flegrei Quarto EST - Stazione Osservatorio Vesuviano)\n",
      "\t\t\tIV.CSFT (Campi Flegrei - Cratere Solfatara, Interno)\n",
      "\t\t\tIV.CSOB (Solfatara Bordo Cratere - Stazione Osservatorio Vesuviano)\n",
      "\t\t\tIV.CSTH (Solfatara Tennis Hotel - Stazione Osservatorio Vesuviano)\n",
      "\t\t\tIV.IOCA (Ischia - Osservatorio Casamicciola)\n",
      "\t\t\tIV.MODR (Mondragone)\n",
      "\t\t\tIV.OVO (OSSERVATORIO VESUVIANO)\n",
      "\t\t\tIV.PAOL (Paolisi)\n",
      "\t\t\tIV.PIGN (Pignataro Maggiore (CE))\n",
      "\t\t\tIV.SORR (Penisola sorrentina - Stazione Osservatorio Vesuviano)\n",
      "\t\t\tIX.NAPI (Station Complesso Universitario Monte Sant`Angelo, Italy)\n",
      "\t\tChannels (192):\n",
      "\t\t\tIV.CAAM..HHZ (2x), IV.CAAM..HHN (2x), IV.CAAM..HHE (2x), \n",
      "\t\t\tIV.CAAM..HNZ, IV.CAAM..HNN, IV.CAAM..HNE, IV.CAFL..HHZ, \n",
      "\t\t\tIV.CAFL..HHN, IV.CAFL..HHE, IV.CAWE..EHZ, IV.CAWE..EHN, \n",
      "\t\t\tIV.CAWE..EHE, IV.CBAC..EHZ, IV.CBAC..EHN, IV.CBAC..EHE, \n",
      "\t\t\tIV.CBAC..HHZ, IV.CBAC..HHN, IV.CBAC..HHE, IV.CBAC..HNZ, \n",
      "\t\t\tIV.CBAC..HNN, IV.CBAC..HNE, IV.CCAP..EHZ, IV.CCAP..EHN, \n",
      "\t\t\tIV.CCAP..EHE, IV.CFMN..HHZ (2x), IV.CFMN..HHN (2x), \n",
      "\t\t\tIV.CFMN..HHE (2x), IV.CFMN..HNZ, IV.CFMN..HNN, IV.CFMN..HNE, \n",
      "\t\t\tIV.CMIS..HHZ (2x), IV.CMIS..HHN (2x), IV.CMIS..HHE (2x), \n",
      "\t\t\tIV.CMIS..HNZ, IV.CMIS..HNN, IV.CMIS..HNE, IV.CMSN..HHZ, \n",
      "\t\t\tIV.CMSN..HHN, IV.CMSN..HHE, IV.CMTS..EHZ, IV.CMTS..EHN, \n",
      "\t\t\tIV.CMTS..EHE, IV.CNIS..HHZ, IV.CNIS..HHN, IV.CNIS..HHE, \n",
      "\t\t\tIV.CNIS..HNZ (2x), IV.CNIS..HNN (2x), IV.CNIS..HNE (2x), \n",
      "\t\t\tIV.COLB..HHZ (2x), IV.COLB..HHN (2x), IV.COLB..HHE (2x), \n",
      "\t\t\tIV.COLB..HNZ, IV.COLB..HNN, IV.COLB..HNE, IV.CPIS..HHZ (2x), \n",
      "\t\t\tIV.CPIS..HHN (2x), IV.CPIS..HHE (2x), IV.CPOZ..HHZ (3x), \n",
      "\t\t\tIV.CPOZ..HHN (3x), IV.CPOZ..HHE (3x), IV.CPOZ..HNZ, IV.CPOZ..HNN, \n",
      "\t\t\tIV.CPOZ..HNE, IV.CQUE..HHZ, IV.CQUE..HHN, IV.CQUE..HHE, \n",
      "\t\t\tIV.CQUE..HNZ (2x), IV.CQUE..HNN (2x), IV.CQUE..HNE (2x), \n",
      "\t\t\tIV.CSFT..HHZ, IV.CSFT..HHN, IV.CSFT..HHE, IV.CSOB..HHZ (2x), \n",
      "\t\t\tIV.CSOB..HHN (2x), IV.CSOB..HHE (2x), IV.CSOB..HNZ (2x), \n",
      "\t\t\tIV.CSOB..HNN (2x), IV.CSOB..HNE (2x), IV.CSTH..EHZ, IV.CSTH..EHN, \n",
      "\t\t\tIV.CSTH..EHE, IV.CSTH..HHZ, IV.CSTH..HHN, IV.CSTH..HHE, \n",
      "\t\t\tIV.CSTH..HNZ, IV.CSTH..HNN, IV.CSTH..HNE, IV.IOCA..HHZ (2x), \n",
      "\t\t\tIV.IOCA..HHN (2x), IV.IOCA..HHE (2x), IV.IOCA..HNZ (2x), \n",
      "\t\t\tIV.IOCA..HNN (2x), IV.IOCA..HNE (2x), IV.MODR..BHZ, IV.MODR..BHN, \n",
      "\t\t\tIV.MODR..BHE, IV.MODR..HHZ, IV.MODR..HHN, IV.MODR..HHE, \n",
      "\t\t\tIV.MODR..LHZ, IV.MODR..LHN, IV.MODR..LHE, IV.MODR..VHZ, \n",
      "\t\t\tIV.MODR..VHN, IV.MODR..VHE, IV.OVO..HHZ, IV.OVO..HHN, IV.OVO..HHE, \n",
      "\t\t\tIV.PAOL..BHZ, IV.PAOL..BHN, IV.PAOL..BHE, IV.PAOL..HHZ, \n",
      "\t\t\tIV.PAOL..HHN, IV.PAOL..HHE, IV.PAOL..HNZ, IV.PAOL..HNN, \n",
      "\t\t\tIV.PAOL..HNE, IV.PAOL..LHZ, IV.PAOL..LHN, IV.PAOL..LHE, \n",
      "\t\t\tIV.PAOL..VHZ, IV.PAOL..VHN, IV.PAOL..VHE, IV.PIGN..BHZ, \n",
      "\t\t\tIV.PIGN..BHN, IV.PIGN..BHE, IV.PIGN..HHZ (2x), IV.PIGN..HHN (2x), \n",
      "\t\t\tIV.PIGN..HHE (2x), IV.PIGN..HNZ (2x), IV.PIGN..HNN (2x), \n",
      "\t\t\tIV.PIGN..HNE (2x), IV.PIGN..LHZ, IV.PIGN..LHN, IV.PIGN..LHE, \n",
      "\t\t\tIV.PIGN..VHZ, IV.PIGN..VHN, IV.PIGN..VHE, IV.SORR..HHZ, \n",
      "\t\t\tIV.SORR..HHN, IV.SORR..HHE, IV.SORR..HNZ, IV.SORR..HNN, \n",
      "\t\t\tIV.SORR..HNE, IX.NAPI.01.HNZ, IX.NAPI.01.HNN, IX.NAPI.01.HNE\n"
     ]
    }
   ],
   "source": [
    "#read flegrei stations\n",
    "workdir='../'\n",
    "\n",
    "meta_data_dir= os.path.join(workdir,'META_DATA')\n",
    "stations_xml_name=os.path.join(meta_data_dir,'stations_flegrei_INGV_2.xml')           #CHANGE\n",
    "\n",
    "inv_f=read_inventory(stations_xml_name)\n",
    "print(inv_f)"
   ]
  },
  {
   "cell_type": "code",
   "execution_count": null,
   "metadata": {},
   "outputs": [],
   "source": []
  },
  {
   "cell_type": "code",
   "execution_count": 3,
   "metadata": {},
   "outputs": [],
   "source": [
    "inventory=[]\n",
    "for network in inv_f:\n",
    "    for station in network:\n",
    "        \n",
    "        lat= str(station.latitude)\n",
    "        lon= str(station.longitude)\n",
    "        elev=str(station.elevation)\n",
    "        elev_corr= '0.00'\n",
    "\n",
    "        net_sta= str(network.code) +'.'+ str(station.code)  +'.'\n",
    "\n",
    "        line= \"{:13s} {:14s} {:15s} {:11s} {:s}\".format(net_sta, lat, lon, elev, elev_corr)\n",
    "        inventory.append(line)\n",
    "        "
   ]
  },
  {
   "cell_type": "code",
   "execution_count": 4,
   "metadata": {},
   "outputs": [
    {
     "data": {
      "text/plain": [
       "'IV.CAFL.      40.8439        14.0935         75.0        0.00'"
      ]
     },
     "execution_count": 4,
     "metadata": {},
     "output_type": "execute_result"
    }
   ],
   "source": [
    "inventory[1]"
   ]
  },
  {
   "cell_type": "code",
   "execution_count": 5,
   "metadata": {},
   "outputs": [],
   "source": [
    "station_name=os.path.join(meta_data_dir,'stations_flegrei_INGV_2.pf')                  #CHANGE\n",
    "\n",
    "with open(station_name, 'w') as out:\n",
    "    for l in inventory:\n",
    "        out.write(l + '\\n')"
   ]
  }
 ],
 "metadata": {
  "kernelspec": {
   "display_name": "Python 3",
   "language": "python",
   "name": "python3"
  },
  "language_info": {
   "codemirror_mode": {
    "name": "ipython",
    "version": 3
   },
   "file_extension": ".py",
   "mimetype": "text/x-python",
   "name": "python",
   "nbconvert_exporter": "python",
   "pygments_lexer": "ipython3",
   "version": "3.11.7"
  }
 },
 "nbformat": 4,
 "nbformat_minor": 2
}
