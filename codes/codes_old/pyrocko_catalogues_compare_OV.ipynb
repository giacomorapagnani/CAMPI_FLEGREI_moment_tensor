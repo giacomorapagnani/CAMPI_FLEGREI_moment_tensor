{
 "cells": [
  {
   "cell_type": "markdown",
   "metadata": {},
   "source": [
    "### Compare .pf Catalogues from INGV and OV. Create a new catalogue with only events of Mag > 2.5"
   ]
  },
  {
   "cell_type": "code",
   "execution_count": 1,
   "metadata": {},
   "outputs": [],
   "source": [
    "from pyrocko import util, model, io, trace, moment_tensor, gmtpy\n",
    "from pyrocko import pz\n",
    "from pyrocko import orthodrome as od\n",
    "from pyrocko.io import quakeml\n",
    "from pyrocko.io import stationxml as fdsn\n",
    "from pyrocko.client import catalog\n",
    "from pyrocko.automap import Map\n",
    "import pyrocko.moment_tensor as pmt\n",
    "from seiscloud import plot as scp\n",
    "from seiscloud import cluster as scc\n",
    "from pyrocko.plot.gmtpy import GMT\n",
    "import os\n",
    "import matplotlib.pyplot as plt\n",
    "from matplotlib import collections  as mc\n",
    "from matplotlib import dates\n",
    "import datetime"
   ]
  },
  {
   "cell_type": "code",
   "execution_count": 2,
   "metadata": {},
   "outputs": [],
   "source": [
    "workdir='../'\n",
    "catdir =  os.path.join(workdir,'CAT')"
   ]
  },
  {
   "cell_type": "code",
   "execution_count": 3,
   "metadata": {},
   "outputs": [
    {
     "name": "stdout",
     "output_type": "stream",
     "text": [
      "Number of events: 57\n"
     ]
    }
   ],
   "source": [
    "catname = os.path.join(catdir, 'catologue_flegrei_OV.pf')\n",
    "\n",
    "cat_ov = model.load_events(catname)\n",
    "print('Number of events:', len(cat_ov))"
   ]
  },
  {
   "cell_type": "code",
   "execution_count": 4,
   "metadata": {},
   "outputs": [
    {
     "name": "stdout",
     "output_type": "stream",
     "text": [
      "Number of events: 50\n"
     ]
    }
   ],
   "source": [
    "catname = os.path.join(catdir, 'catologue_flegrei_new_mag2_5.pf')\n",
    "\n",
    "cat_f = model.load_events(catname)\n",
    "print('Number of events:', len(cat_f))"
   ]
  },
  {
   "cell_type": "code",
   "execution_count": 15,
   "metadata": {},
   "outputs": [
    {
     "data": {
      "text/plain": [
       "[['7102 : 2022-03-16 14:14:34.800 mag= 3.47', 'flegrei_2022_03_16_14_14_34'],\n",
       " ['14725 : 2022-03-29 17:45:32.360 mag= 3.57', 'flegrei_2022_03_29_17_45_32'],\n",
       " ['14885 : 2022-04-19 02:05:54.300 mag= 2.94', 'flegrei_2022_04_19_02_05_54'],\n",
       " ['16351 : 2022-07-30 03:27:48.930 mag= 2.51', 'flegrei_2022_07_30_03_27_48'],\n",
       " ['17434 : 2022-11-12 21:37:54.760 mag= 2.67', 'flegrei_2022_11_12_21_37_54'],\n",
       " ['17732 : 2022-11-30 02:34:39.010 mag= 2.53', 'flegrei_2022_11_30_02_34_39'],\n",
       " ['22730 : 2022-12-28 02:35:57.520 mag= 2.67', 'flegrei_2022_12_28_02_35_57'],\n",
       " ['23194 : 2023-01-19 08:44:30.190 mag= 2.59', 'flegrei_2023_01_19_08_44_30'],\n",
       " ['23338 : 2023-02-05 00:45:36.160 mag= 2.97', 'flegrei_2023_02_05_00_45_36'],\n",
       " ['23716 : 2023-03-04 13:15:20.410 mag= 2.6', 'flegrei_2023_03_04_13_15_20'],\n",
       " ['23904 : 2023-03-13 22:40:53.580 mag= 2.83', 'flegrei_2023_03_13_22_40_53'],\n",
       " ['24146 : 2023-03-24 05:24:43.090 mag= 2.59', 'flegrei_2023_03_24_05_24_43'],\n",
       " ['24479 : 2023-04-10 03:54:45.480 mag= 2.92', 'flegrei_2023_04_10_03_54_45'],\n",
       " ['24645 : 2023-04-15 05:54:37.220 mag= 2.63'],\n",
       " ['24688 : 2023-04-15 05:54:40.430 mag= 2.71'],\n",
       " ['25202 : 2023-05-08 02:28:34.260 mag= 3.48', 'flegrei_2023_05_08_02_28_34'],\n",
       " ['25214 : 2023-05-08 22:33:17.410 mag= 2.69', 'flegrei_2023_05_08_22_33_17'],\n",
       " ['26132 : 2023-06-11 06:44:25.720 mag= 3.56', 'flegrei_2023_06_11_06_44_25'],\n",
       " ['26290 : 2023-06-15 15:39:40.320 mag= 2.89', 'flegrei_2023_06_15_15_39_40'],\n",
       " ['28790 : 2023-08-18 00:01:28.290 mag= 2.67', 'flegrei_2023_08_18_00_01_28'],\n",
       " ['28837 : 2023-08-18 04:09:59.430 mag= 3.2', 'flegrei_2023_08_18_04_09_59'],\n",
       " ['28871 : 2023-08-18 04:10:30.410 mag= 2.53', 'flegrei_2023_08_18_04_10_30'],\n",
       " ['28848 : 2023-08-18 04:18:05.660 mag= 3.64', 'flegrei_2023_08_18_04_18_05'],\n",
       " ['28850 : 2023-08-18 04:22:49.850 mag= 3.12', 'flegrei_2023_08_18_04_22_49'],\n",
       " ['29141 : 2023-08-27 21:14:23.450 mag= 2.61', 'flegrei_2023_08_27_21_14_23'],\n",
       " ['29728 : 2023-09-07 17:45:28.780 mag= 3.79', 'flegrei_2023_09_07_17_45_28'],\n",
       " ['29830 : 2023-09-12 02:28:50.200 mag= 2.9', 'flegrei_2023_09_12_02_28_50'],\n",
       " ['30053 : 2023-09-20 22:54:29.079 mag= 2.7', 'flegrei_2023_09_20_22_54_29'],\n",
       " ['30137 : 2023-09-22 09:01:59.950 mag= 3.2', 'flegrei_2023_09_22_09_01_59'],\n",
       " ['30310 : 2023-09-24 15:35:02.029 mag= 2.8', 'flegrei_2023_09_24_15_35_02'],\n",
       " ['30417 : 2023-09-26 06:31:43.579 mag= 2.5', 'flegrei_2023_09_26_06_31_43'],\n",
       " ['30421 : 2023-09-26 07:10:29.589 mag= 3.3', 'flegrei_2023_09_26_07_10_29'],\n",
       " ['30466 : 2023-09-27 01:35:34.349 mag= 4.2', 'flegrei_2023_09_27_01_35_34'],\n",
       " ['30510 : 2023-09-27 09:16:18.140 mag= 2.8', 'flegrei_2023_09_27_09_16_18'],\n",
       " ['30792 : 2023-09-29 21:57:58.319 mag= 2.7', 'flegrei_2023_09_29_21_57_58'],\n",
       " ['30857 : 2023-10-01 13:33:09.019 mag= 2.9', 'flegrei_2023_10_01_13_33_09'],\n",
       " ['30898 : 2023-10-02 20:08:26.690 mag= 4.0', 'flegrei_2023_10_02_20_08_26'],\n",
       " ['31003 : 2023-10-04 08:46:55.029 mag= 2.6', 'flegrei_2023_10_04_08_46_55'],\n",
       " ['31411 : 2023-10-16 10:36:21.119 mag= 3.6', 'flegrei_2023_10_16_10_36_21'],\n",
       " ['31823 : 2023-11-23 18:41:46.900 mag= 3.0', 'flegrei_2023_11_23_18_41_46'],\n",
       " ['32178 : 2024-01-21 09:35:04.859 mag= 2.6'],\n",
       " ['32701 : 2024-02-17 18:09:50.630 mag= 2.7'],\n",
       " ['32704 : 2024-02-17 19:22:09.220 mag= 3.0'],\n",
       " ['32915 : 2024-03-03 09:01:59.609 mag= 3.2'],\n",
       " ['33167 : 2024-03-10 17:15:06.619 mag= 2.6'],\n",
       " ['33522 : 2024-04-04 05:14:36.519 mag= 2.7'],\n",
       " ['33528 : 2024-04-04 05:32:56.809 mag= 2.9'],\n",
       " ['33541 : 2024-04-04 05:33:01.619 mag= 3.2'],\n",
       " ['33632 : 2024-04-06 11:59:31.849 mag= 2.5'],\n",
       " ['33786 : 2024-04-09 20:32:10.109 mag= 2.8'],\n",
       " ['34048 : 2024-04-14 07:44:24.029 mag= 3.7'],\n",
       " ['34050 : 2024-04-14 07:46:58.670 mag= 3.1'],\n",
       " ['34085 : 2024-04-14 07:57:57.960 mag= 2.7'],\n",
       " ['34065 : 2024-04-14 08:01:43.740 mag= 3.0'],\n",
       " ['34068 : 2024-04-14 08:08:31.200 mag= 2.5'],\n",
       " ['34212 : 2024-04-16 03:38:05.539 mag= 2.5'],\n",
       " ['34662 : 2024-04-27 03:44:56.279 mag= 3.9']]"
      ]
     },
     "execution_count": 15,
     "metadata": {},
     "output_type": "execute_result"
    }
   ],
   "source": [
    "id_catalogues=[]\n",
    "\n",
    "for ind,ev_ov in enumerate(cat_ov):\n",
    "    \n",
    "    origin_time = ev_ov.time\n",
    "    time_min= origin_time - 5\n",
    "    time_max= origin_time + 5\n",
    "\n",
    "    id_catalogues.append([])\n",
    "    event_ov_name= ev_ov.name +' : '+ util.time_to_str(ev_ov.time) +' mag= ' + str(ev_ov.magnitude)\n",
    "    id_catalogues[ind].append( event_ov_name  )\n",
    "\n",
    "    for ev_f in cat_f:\n",
    "        if ev_f.time>time_min and ev_f.time<time_max:\n",
    "            id_catalogues[ind].append( ev_f.name )\n",
    "    \n",
    "\n",
    "id_catalogues"
   ]
  },
  {
   "cell_type": "code",
   "execution_count": 30,
   "metadata": {},
   "outputs": [
    {
     "name": "stdout",
     "output_type": "stream",
     "text": [
      "['flegrei_2018_09_18_21_36_41 mag:2.5']\n",
      "['flegrei_2019_03_15_04_26_41 mag:2.5']\n",
      "['flegrei_2019_10_05_05_08_37 mag:2.5']\n",
      "['flegrei_2019_12_06_00_17_23 mag:3.1']\n",
      "['flegrei_2020_04_08_00_50_29 mag:2.7']\n",
      "['flegrei_2020_04_26_02_41_13 mag:2.7']\n",
      "['flegrei_2020_04_26_02_59_02 mag:3.3']\n",
      "['flegrei_2020_12_28_08_09_43 mag:2.6']\n",
      "['flegrei_2022_03_16_14_14_34 mag:3.47', '7102 : 2022-03-16 14:14:34.800 mag= 3.47']\n",
      "['flegrei_2022_03_29_17_45_32 mag:3.57', '14725 : 2022-03-29 17:45:32.360 mag= 3.57']\n",
      "['flegrei_2022_04_19_02_05_54 mag:2.94', '14885 : 2022-04-19 02:05:54.300 mag= 2.94']\n",
      "['flegrei_2022_07_30_03_27_48 mag:2.51', '16351 : 2022-07-30 03:27:48.930 mag= 2.51']\n",
      "['flegrei_2022_11_12_21_37_54 mag:2.67', '17434 : 2022-11-12 21:37:54.760 mag= 2.67']\n",
      "['flegrei_2022_11_30_02_34_39 mag:2.53', '17732 : 2022-11-30 02:34:39.010 mag= 2.53']\n",
      "['flegrei_2022_12_28_02_35_57 mag:2.67', '22730 : 2022-12-28 02:35:57.520 mag= 2.67']\n",
      "['flegrei_2023_01_19_08_44_30 mag:2.59', '23194 : 2023-01-19 08:44:30.190 mag= 2.59']\n",
      "['flegrei_2023_02_05_00_45_36 mag:2.97', '23338 : 2023-02-05 00:45:36.160 mag= 2.97']\n",
      "['flegrei_2023_03_04_13_15_20 mag:2.6', '23716 : 2023-03-04 13:15:20.410 mag= 2.6']\n",
      "['flegrei_2023_03_13_22_40_53 mag:2.83', '23904 : 2023-03-13 22:40:53.580 mag= 2.83']\n",
      "['flegrei_2023_03_24_05_24_43 mag:2.59', '24146 : 2023-03-24 05:24:43.090 mag= 2.59']\n",
      "['flegrei_2023_04_10_03_54_45 mag:2.92', '24479 : 2023-04-10 03:54:45.480 mag= 2.92']\n",
      "['flegrei_2023_04_26_03_03_19 mag:2.31']\n",
      "['flegrei_2023_05_08_02_28_34 mag:3.48', '25202 : 2023-05-08 02:28:34.260 mag= 3.48']\n",
      "['flegrei_2023_05_08_22_33_17 mag:2.69', '25214 : 2023-05-08 22:33:17.410 mag= 2.69']\n",
      "['flegrei_2023_06_02_09_43_54 mag:2.47']\n",
      "['flegrei_2023_06_11_06_44_25 mag:3.56', '26132 : 2023-06-11 06:44:25.720 mag= 3.56']\n",
      "['flegrei_2023_06_15_15_39_40 mag:2.89', '26290 : 2023-06-15 15:39:40.320 mag= 2.89']\n",
      "['flegrei_2023_08_14_22_46_51 mag:2.47']\n",
      "['flegrei_2023_08_18_00_01_28 mag:2.67', '28790 : 2023-08-18 00:01:28.290 mag= 2.67']\n",
      "['flegrei_2023_08_18_04_09_59 mag:3.2', '28837 : 2023-08-18 04:09:59.430 mag= 3.2']\n",
      "['flegrei_2023_08_18_04_10_30 mag:2.53', '28871 : 2023-08-18 04:10:30.410 mag= 2.53']\n",
      "['flegrei_2023_08_18_04_18_05 mag:3.64', '28848 : 2023-08-18 04:18:05.660 mag= 3.64']\n",
      "['flegrei_2023_08_18_04_22_49 mag:3.12', '28850 : 2023-08-18 04:22:49.850 mag= 3.12']\n",
      "['flegrei_2023_08_21_02_48_59 mag:2.43']\n",
      "['flegrei_2023_08_27_21_14_23 mag:2.61', '29141 : 2023-08-27 21:14:23.450 mag= 2.61']\n",
      "['flegrei_2023_09_07_17_45_28 mag:3.79', '29728 : 2023-09-07 17:45:28.780 mag= 3.79']\n",
      "['flegrei_2023_09_12_02_28_50 mag:2.9', '29830 : 2023-09-12 02:28:50.200 mag= 2.9']\n",
      "['flegrei_2023_09_20_22_54_29 mag:2.7', '30053 : 2023-09-20 22:54:29.079 mag= 2.7']\n",
      "['flegrei_2023_09_22_09_01_59 mag:3.2', '30137 : 2023-09-22 09:01:59.950 mag= 3.2']\n",
      "['flegrei_2023_09_24_15_35_02 mag:2.8', '30310 : 2023-09-24 15:35:02.029 mag= 2.8']\n",
      "['flegrei_2023_09_26_06_31_43 mag:2.5', '30417 : 2023-09-26 06:31:43.579 mag= 2.5']\n",
      "['flegrei_2023_09_26_07_10_29 mag:3.3', '30421 : 2023-09-26 07:10:29.589 mag= 3.3']\n",
      "['flegrei_2023_09_27_01_35_34 mag:4.2', '30466 : 2023-09-27 01:35:34.349 mag= 4.2']\n",
      "['flegrei_2023_09_27_09_16_18 mag:2.8', '30510 : 2023-09-27 09:16:18.140 mag= 2.8']\n",
      "['flegrei_2023_09_29_21_57_58 mag:2.7', '30792 : 2023-09-29 21:57:58.319 mag= 2.7']\n",
      "['flegrei_2023_10_01_13_33_09 mag:2.9', '30857 : 2023-10-01 13:33:09.019 mag= 2.9']\n",
      "['flegrei_2023_10_02_20_08_26 mag:4.0', '30898 : 2023-10-02 20:08:26.690 mag= 4.0']\n",
      "['flegrei_2023_10_04_08_46_55 mag:2.6', '31003 : 2023-10-04 08:46:55.029 mag= 2.6']\n",
      "['flegrei_2023_10_16_10_36_21 mag:3.6', '31411 : 2023-10-16 10:36:21.119 mag= 3.6']\n",
      "['flegrei_2023_11_23_18_41_46 mag:3.0', '31823 : 2023-11-23 18:41:46.900 mag= 3.0']\n"
     ]
    }
   ],
   "source": [
    "id_catalogues2=[]\n",
    "\n",
    "for ind,ev_f in enumerate(cat_f):\n",
    "    \n",
    "    origin_time = ev_f.time\n",
    "    time_min= origin_time - 5\n",
    "    time_max= origin_time + 5\n",
    "\n",
    "    id_catalogues2.append([])\n",
    "    event_f_name = ev_f.name +' '+ ev_f.tags[1]\n",
    "    id_catalogues2[ind].append( event_f_name )\n",
    "\n",
    "    for ev_ov in cat_ov:\n",
    "        if ev_ov.time>time_min and ev_ov.time<time_max:\n",
    "            event_ov_name= ev_ov.name +' : '+ util.time_to_str(ev_ov.time) +' mag= ' + str(ev_ov.magnitude)\n",
    "\n",
    "            id_catalogues2[ind].append( event_ov_name )\n",
    "    \n",
    "for i in id_catalogues2:\n",
    "    print(i)"
   ]
  },
  {
   "cell_type": "markdown",
   "metadata": {},
   "source": [
    "### all events in catalogue_OV are present in our catalogue.\n",
    "### except two events very close in time and all the avents of the 2024 (must update catalogue)"
   ]
  },
  {
   "cell_type": "code",
   "execution_count": 31,
   "metadata": {},
   "outputs": [
    {
     "data": {
      "text/plain": [
       "\"\\n['24645 : 2023-04-15 05:54:37.220 mag= 2.63'],\\n ['24688 : 2023-04-15 05:54:40.430 mag= 2.71'],\\n\""
      ]
     },
     "execution_count": 31,
     "metadata": {},
     "output_type": "execute_result"
    }
   ],
   "source": [
    "'''\n",
    "['24645 : 2023-04-15 05:54:37.220 mag= 2.63'],\n",
    " ['24688 : 2023-04-15 05:54:40.430 mag= 2.71'],\n",
    "'''"
   ]
  }
 ],
 "metadata": {
  "kernelspec": {
   "display_name": "Python 3",
   "language": "python",
   "name": "python3"
  },
  "language_info": {
   "codemirror_mode": {
    "name": "ipython",
    "version": 3
   },
   "file_extension": ".py",
   "mimetype": "text/x-python",
   "name": "python",
   "nbconvert_exporter": "python",
   "pygments_lexer": "ipython3",
   "version": "3.11.7"
  }
 },
 "nbformat": 4,
 "nbformat_minor": 2
}
