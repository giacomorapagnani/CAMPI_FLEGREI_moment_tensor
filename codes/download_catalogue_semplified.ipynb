{
 "cells": [
  {
   "cell_type": "code",
   "execution_count": 2,
   "metadata": {},
   "outputs": [],
   "source": [
    "#download catalogue from INGV\n",
    "\n",
    "# %% LIB\n",
    "from obspy.clients.fdsn.client import Client\n",
    "from obspy import UTCDateTime\n",
    "from obspy.core.event import Catalog\n",
    "from obspy.core.stream import Stream\n",
    "from obspy.core.event import Event\n",
    "from obspy.core.event import Origin\n",
    "from obspy.core.event import Magnitude\n",
    "from obspy import read_events\n",
    "from obspy import read_inventory\n",
    "from obspy.core.event import ResourceIdentifier\n",
    "import cartopy.crs as ccrs\n",
    "\n",
    "from pyrocko import util, model, io, trace, moment_tensor, gmtpy\n",
    "from pyrocko import pz\n",
    "from pyrocko import orthodrome as od\n",
    "from pyrocko.io import quakeml\n",
    "from pyrocko.io import stationxml as fdsn\n",
    "from pyrocko.client import catalog\n",
    "from pyrocko.automap import Map\n",
    "\n",
    "import pandas as pd\n",
    "import matplotlib.pyplot as plt\n",
    "import numpy as np\n",
    "import os\n",
    "import csv"
   ]
  },
  {
   "cell_type": "code",
   "execution_count": null,
   "metadata": {},
   "outputs": [
    {
     "name": "stdout",
     "output_type": "stream",
     "text": [
      "downloading events from INGV database\n",
      "number of events selected: 4\n",
      "4 Event(s) in Catalog:\n",
      "2010-12-21T02:47:12.000000Z | +40.845,  +14.069 | 1.3  ML | manual\n",
      "2010-03-22T00:55:51.160000Z | +40.807,  +14.021 | 2.1  Md | manual\n",
      "2000-08-22T19:07:49.860000Z | +40.771,  +14.070 | 2.5  Md | manual\n",
      "1991-01-10T11:21:48.850000Z | +40.781,  +14.066 | 2.5  Md | manual\n"
     ]
    }
   ],
   "source": [
    "# rectangular search\n",
    "workdir= '../'\n",
    "catdir =  os.path.join(workdir,'CAT')\n",
    "\n",
    "client=Client('INGV')\n",
    "\n",
    "stime=UTCDateTime('1980-01-01T00:00:00')        # CHANGE set start time\n",
    "etime=UTCDateTime('2014-01-01T00:00:00')        # CHANGE set end time\n",
    "\n",
    "minlat=40.75                                       # CHANGE\n",
    "maxlat=40.90                                       # CHANGE\n",
    "minlon=14.00                                       # CHANGE\n",
    "maxlon=14.20                                     # CHANGE\n",
    "\n",
    "minmag=1.\n",
    "\n",
    "catalogue_filename= 'catalogue_flegrei_1980_2014'              # CHANGE\n",
    "\n",
    "print('downloading events from INGV database')\n",
    "cat_INGV=client.get_events(starttime=stime,endtime=etime,\n",
    "                        minlatitude=minlat,maxlatitude=maxlat,minlongitude=minlon,\n",
    "                        maxlongitude=maxlon,minmagnitude=minmag)\n",
    "\n",
    "\n",
    "cat_name=os.path.join(catdir,catalogue_filename + '.xml')\n",
    "cat_INGV.write(cat_name,format='QUAKEML')\n",
    "\n",
    "print('number of events selected:',len(cat_INGV))\n",
    "print(cat_INGV)"
   ]
  },
  {
   "cell_type": "code",
   "execution_count": null,
   "metadata": {},
   "outputs": [
    {
     "name": "stdout",
     "output_type": "stream",
     "text": [
      "downloading events from INGV database\n",
      "number of events selected: 17\n",
      "17 Event(s) in Catalog:\n",
      "2024-08-01T19:43:19.830000Z | +39.467,  +16.778 | 5.0  Mw | manual\n",
      "2022-11-09T06:08:28.990000Z | +43.913,  +13.345 | 5.2  ML | manual\n",
      "...\n",
      "2016-08-24T02:33:28.890000Z | +42.792,  +13.151 | 5.4  Mw | manual\n",
      "2016-08-24T01:36:32.000000Z | +42.698,  +13.233 | 6.0  Mw | manual\n",
      "To see all events call 'print(CatalogObject.__str__(print_all=True))'\n"
     ]
    }
   ],
   "source": [
    "# circular search\n",
    "workdir= '../'\n",
    "catdir =  os.path.join(workdir,'CAT')\n",
    "\n",
    "client=Client('INGV')\n",
    "\n",
    "stime=UTCDateTime('2020-01-01T00:00:00')        # CHANGE set start time\n",
    "etime=UTCDateTime('2025-03-01T00:00:00')        # CHANGE set end time\n",
    "\n",
    "lat=40.8478                                      # CHANGE\n",
    "lon=14.0918                                      # CHANGE\n",
    "minrad=0.1      # degrees\n",
    "maxrad=4.     # degrees\n",
    "\n",
    "maxdepth=50.    # km\n",
    "\n",
    "minmag=4.5\n",
    "\n",
    "catalogue_filename= 'catalogue_regional_events'              # CHANGE\n",
    "\n",
    "print('downloading events from INGV database')\n",
    "cat_INGV=client.get_events(starttime=stime,endtime=etime,\n",
    "                        latitude=lat,longitude=lon,\n",
    "                        minradius=minrad,maxradius=maxrad,\n",
    "                        maxdepth=maxdepth,minmagnitude=minmag)\n",
    "\n",
    "\n",
    "cat_name=os.path.join(catdir,catalogue_filename + '.xml')\n",
    "cat_INGV.write(cat_name,format='QUAKEML')\n",
    "\n",
    "print('number of events selected:',len(cat_INGV))\n",
    "print(cat_INGV)"
   ]
  },
  {
   "cell_type": "code",
   "execution_count": 9,
   "metadata": {},
   "outputs": [
    {
     "name": "stdout",
     "output_type": "stream",
     "text": [
      "creating catalogues INGV in .pf\n"
     ]
    }
   ],
   "source": [
    "# create/load pf catalogue\n",
    "catname_pf = os.path.join(catdir, catalogue_filename + '.pf')\n",
    "\n",
    "def catalogue_INGV_to_PF(cat,cat_name):\n",
    "    events = []\n",
    "    for ev in cat:\n",
    "        name= str(ev.resource_id).split('=')[1]\n",
    "\n",
    "        timetmp= str(ev.origins[0].time)\n",
    "        timestr = timetmp[0:10] + ' ' + timetmp[11:23]                          # format: '2010-01-01 00:00:00.000'\n",
    "        time = util.str_to_time(timestr)\n",
    "\n",
    "        lat=    float( ev.origins[0].latitude )\n",
    "        lon =   float( ev.origins[0].longitude )\n",
    "        depth = float( ev.origins[0].depth )\n",
    "        magnitude = float( ev.magnitudes[0].mag )\n",
    "        events.append(model.Event(name=name, time=time,\n",
    "                                lat=lat, lon=lon,\n",
    "                                depth=depth, magnitude=magnitude))\n",
    "    events.sort(key=lambda x: x.time, reverse=False)\n",
    "    model.dump_events(events, cat_name)\n",
    "    return events\n",
    "\n",
    "print('creating catalogues INGV in .pf')\n",
    "cat_pf_INGV=    catalogue_INGV_to_PF(cat_INGV,catname_pf)"
   ]
  },
  {
   "cell_type": "code",
   "execution_count": 2,
   "metadata": {},
   "outputs": [
    {
     "name": "stdout",
     "output_type": "stream",
     "text": [
      "Creating a txt file of the selected catalogue\n"
     ]
    }
   ],
   "source": [
    "# %% EXTRA: create .txt file of the catalogue\n",
    "workdir= '../'\n",
    "catdir =  os.path.join(workdir,'CAT')\n",
    "catalogue_filename= 'catalogue_flegrei_mag_2_5'            #CHANGE\n",
    "file=os.path.join(catdir,catalogue_filename+'.pf')\n",
    "\n",
    "def create_txt_catalogue(catalogue):\n",
    "    list_events=[]\n",
    "    for ev in catalogue:\n",
    "        list_events.append( util.time_to_str(ev.time)+'\\t'+str(ev.lat)\n",
    "                           +'\\t'+str(ev.lon)+'\\t' +str(ev.depth)+'\\t'+str(ev.magnitude) )\n",
    "    return list_events\n",
    "\n",
    "# columns:  TIME    LAT     LON     DEPTH   MAGNITUDE\n",
    "######################################################################################\n",
    "######################################################################################\n",
    "switch_create_txt_file_with_catalogue= True      ########################SWITCH\n",
    "######################################################################################\n",
    "######################################################################################\n",
    "\n",
    "if switch_create_txt_file_with_catalogue:\n",
    "    print('Creating a txt file of the selected catalogue')\n",
    "    cat=model.load_events(file)                                                         \n",
    "    l_ev=create_txt_catalogue(cat)\n",
    "\n",
    "    new_file = os.path.join(catdir,catalogue_filename + '.txt')\n",
    "\n",
    "    with open(new_file, 'w') as output:\n",
    "        for row in l_ev:\n",
    "            output.write(str(row) + '\\n')\n",
    "\n",
    "\n",
    "# %% CHECK DATA NAME'S CONSISTENCIES:\n",
    "# DATA\n",
    "# BLACKLIST\n",
    "# MARKERS"
   ]
  }
 ],
 "metadata": {
  "kernelspec": {
   "display_name": "Python 3",
   "language": "python",
   "name": "python3"
  },
  "language_info": {
   "codemirror_mode": {
    "name": "ipython",
    "version": 3
   },
   "file_extension": ".py",
   "mimetype": "text/x-python",
   "name": "python",
   "nbconvert_exporter": "python",
   "pygments_lexer": "ipython3",
   "version": "3.11.11"
  }
 },
 "nbformat": 4,
 "nbformat_minor": 2
}
