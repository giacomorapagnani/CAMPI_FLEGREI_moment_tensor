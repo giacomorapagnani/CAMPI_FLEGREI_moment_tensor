{
 "cells": [
  {
   "cell_type": "code",
   "execution_count": null,
   "metadata": {},
   "outputs": [],
   "source": [
    "from pyproj import Transformer\n",
    "\n",
    "def utm_to_latlon(x, y, z, zone_number, northern_hemisphere=True):\n",
    "    # Define the UTM and WGS84 coordinate systems\n",
    "    utm_crs = f\"+proj=utm +zone={zone_number} +ellps=WGS84 {'+north' if northern_hemisphere else '+south'}\"\n",
    "    wgs84_crs = \"EPSG:4326\"\n",
    "    \n",
    "    # Create a Transformer object\n",
    "    transformer = Transformer.from_crs(utm_crs, wgs84_crs, always_xy=True)\n",
    "    \n",
    "    # Perform the transformation\n",
    "    lon, lat = transformer.transform(x, y)\n",
    "    return lat, lon, z\n",
    "\n",
    "def process_file(input_file, output_file, zone_number, northern_hemisphere=True):\n",
    "    with open(input_file, 'r') as infile, open(output_file, 'w') as outfile:\n",
    "        outfile.write(\"Latitude Longitude Height\\n\")  # Write header to the output file\n",
    "        for line in infile:\n",
    "            if line.strip():  # Skip empty lines\n",
    "                # Read and parse UTM coordinates and height from the input file\n",
    "                x, y, z = map(float, line.split())\n",
    "                # Convert UTM to latitude, longitude, and height\n",
    "                latitude, longitude, height = utm_to_latlon(x, y, z, zone_number, northern_hemisphere)\n",
    "                # Write the transformed coordinates to the output file\n",
    "                outfile.write(f\"{latitude:.8f} {longitude:.8f} {height:.2f}\\n\")\n",
    "\n",
    "# Example usage\n",
    "input_file = \"/Users/giaco/Downloads/CF-xyz.dat\"\n",
    "output_file = \"/Users/giaco/Downloads/CF-xyz_new.dat\"\n",
    "zone_number = 33  # Adjust as needed\n",
    "northern_hemisphere = True\n",
    "\n",
    "process_file(input_file, output_file, zone_number, northern_hemisphere)\n",
    "print(f\"Coordinates converted and saved to {output_file}\")\n"
   ]
  },
  {
   "cell_type": "code",
   "execution_count": null,
   "metadata": {},
   "outputs": [],
   "source": [
    "from pyproj import Transformer\n",
    "\n",
    "def utm_to_latlon(x, y, z, zone_number, northern_hemisphere=True):\n",
    "    # Define the UTM and WGS84 coordinate systems\n",
    "    utm_crs = f\"+proj=utm +zone={zone_number} +ellps=WGS84 {'+north' if northern_hemisphere else '+south'}\"\n",
    "    wgs84_crs = \"EPSG:4326\"\n",
    "    \n",
    "    # Create a Transformer object\n",
    "    transformer = Transformer.from_crs(utm_crs, wgs84_crs, always_xy=True)\n",
    "    \n",
    "    # Perform the transformation\n",
    "    lon, lat = transformer.transform(x, y)\n",
    "    return lat, lon, z\n",
    "\n",
    "# Example UTM coordinates in Zone 33N\n",
    "x = 423020\n",
    "y = 4515120\n",
    "z = 138  # Height above ellipsoid\n",
    "zone_number = 33\n",
    "northern_hemisphere = True\n",
    "\n",
    "latitude, longitude, height = utm_to_latlon(x, y, z, zone_number, northern_hemisphere)\n",
    "print(f\"Latitude: {latitude}, Longitude: {longitude}, Height: {height}\")\n"
   ]
  }
 ],
 "metadata": {
  "language_info": {
   "name": "python"
  }
 },
 "nbformat": 4,
 "nbformat_minor": 2
}
