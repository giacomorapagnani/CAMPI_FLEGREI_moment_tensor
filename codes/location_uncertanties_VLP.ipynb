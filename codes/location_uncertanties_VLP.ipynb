{
 "cells": [
  {
   "cell_type": "code",
   "execution_count": 1,
   "id": "c00db01e",
   "metadata": {},
   "outputs": [],
   "source": [
    "import numpy as np\n",
    "\n",
    "n = np.array( (1400,700 ,700 ,700 ,800 ,700 ,1000 , 600,400 ,1200 ,700 ,1000 , 600,800))\n",
    "\n",
    "e = np.array(( 1700,900 ,700 ,1000 ,1100 ,1100 , 1200, 800,700 , 1700,1000 ,1300 ,800,1400) )\n",
    "\n",
    "r= np.sqrt( n**2 + e**2 )"
   ]
  },
  {
   "cell_type": "code",
   "execution_count": 2,
   "id": "0ec8dfbf",
   "metadata": {},
   "outputs": [
    {
     "name": "stdout",
     "output_type": "stream",
     "text": [
      "[1400  700  700  700  800  700 1000  600  400 1200  700 1000  600  800]\n",
      "[1700  900  700 1000 1100 1100 1200  800  700 1700 1000 1300  800 1400]\n",
      "[2202.27155455 1140.1754251   989.94949366 1220.65556157 1360.14705087\n",
      " 1303.84048104 1562.04993518 1000.          806.22577483 2080.86520467\n",
      " 1220.65556157 1640.12194669 1000.         1612.45154966]\n",
      "807.1428571428571\n",
      "1100.0\n",
      "1367.1006813857634\n"
     ]
    }
   ],
   "source": [
    "print(n)\n",
    "print(e)\n",
    "print(r)\n",
    "print(np.mean(n))\n",
    "print(np.mean(e))\n",
    "print(np.mean(r))"
   ]
  }
 ],
 "metadata": {
  "kernelspec": {
   "display_name": "Python 3",
   "language": "python",
   "name": "python3"
  },
  "language_info": {
   "codemirror_mode": {
    "name": "ipython",
    "version": 3
   },
   "file_extension": ".py",
   "mimetype": "text/x-python",
   "name": "python",
   "nbconvert_exporter": "python",
   "pygments_lexer": "ipython3",
   "version": "3.11.11"
  }
 },
 "nbformat": 4,
 "nbformat_minor": 5
}
