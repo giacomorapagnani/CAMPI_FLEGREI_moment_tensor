{
 "cells": [
  {
   "cell_type": "code",
   "execution_count": 4,
   "metadata": {},
   "outputs": [
    {
     "name": "stdout",
     "output_type": "stream",
     "text": [
      "Number of events: 102\n"
     ]
    }
   ],
   "source": [
    "from pyrocko import util, model, io, trace, moment_tensor, gmtpy\n",
    "import os, sys, re, math, shutil\n",
    "\n",
    "cat = model.load_events('/Users/giaco/UNI/PhD_CODE/GIT/CAMPI_FLEGREI_moment_tensor/CAT/catalogue_flegrei_mag_2_5.pf')\n",
    "print('Number of events:', len(cat))"
   ]
  },
  {
   "cell_type": "code",
   "execution_count": 5,
   "metadata": {},
   "outputs": [],
   "source": [
    "#interval_XXL_max=4.45\n",
    "#interval_XXL_min=4.25\n",
    "\n",
    "interval_XL_max=4.45        # include XXL in sama group\n",
    "interval_XL_min=3.75\n",
    "\n",
    "interval_L_max=3.75\n",
    "interval_L_min=3.25\n",
    "\n",
    "interval_M_max=3.25\n",
    "interval_M_min=2.75\n",
    "\n",
    "interval_S_max=2.75\n",
    "interval_S_min=1."
   ]
  },
  {
   "cell_type": "code",
   "execution_count": 6,
   "metadata": {},
   "outputs": [
    {
     "name": "stdout",
     "output_type": "stream",
     "text": [
      "selected events between mag 3.75 and mag 4.45  :   10\n"
     ]
    },
    {
     "data": {
      "text/plain": [
       "[[['flegrei_2023_09_07_17_45_28'], [3.79]],\n",
       " [['flegrei_2023_09_27_01_35_34'], [4.2]],\n",
       " [['flegrei_2023_10_02_20_08_26'], [4.0]],\n",
       " [['flegrei_2024_04_27_03_44_56'], [3.9]],\n",
       " [['flegrei_2024_05_20_18_10_03'], [4.4]],\n",
       " [['flegrei_2024_05_20_19_46_14'], [3.9]],\n",
       " [['flegrei_2024_07_26_11_46_21'], [4.0]],\n",
       " [['flegrei_2025_02_16_14_30_02'], [3.9]],\n",
       " [['flegrei_2025_02_16_23_19_52'], [3.9]],\n",
       " [['flegrei_2025_03_13_00_25_02'], [4.4]]]"
      ]
     },
     "execution_count": 6,
     "metadata": {},
     "output_type": "execute_result"
    }
   ],
   "source": [
    "l_XL=[]\n",
    "count_XL=0\n",
    "cat_XL=[]\n",
    "for ev in cat:\n",
    "    mag=float(ev.tags[1].split(':')[1])\n",
    "    if interval_XL_min<=mag<interval_XL_max:\n",
    "            count_XL+=1\n",
    "            l_XL.append( [ [ev.name] , [mag] ] )\n",
    "            cat_XL.append(ev)\n",
    "\n",
    "print('selected events between mag',interval_XL_min,'and mag',interval_XL_max, ' :  ',count_XL)\n",
    "\n",
    "#l_XL.sort(key=lambda x: x[1], reverse=False)\n",
    "model.dump_events(cat_XL, '/Users/giaco/UNI/PhD_CODE/GIT/CAMPI_FLEGREI_moment_tensor/CAT/catalogue_flegrei_mag_2_5_XL.pf')\n",
    "\n",
    "l_XL"
   ]
  },
  {
   "cell_type": "code",
   "execution_count": 7,
   "metadata": {},
   "outputs": [
    {
     "name": "stdout",
     "output_type": "stream",
     "text": [
      "selected events between mag 3.25 and mag 3.75  :   19\n"
     ]
    },
    {
     "data": {
      "text/plain": [
       "[[['flegrei_2020_04_26_02_59_02'], [3.3]],\n",
       " [['flegrei_2022_03_16_14_14_34'], [3.47]],\n",
       " [['flegrei_2022_03_29_17_45_32'], [3.57]],\n",
       " [['flegrei_2023_05_08_02_28_34'], [3.48]],\n",
       " [['flegrei_2023_06_11_06_44_25'], [3.56]],\n",
       " [['flegrei_2023_08_18_04_18_05'], [3.64]],\n",
       " [['flegrei_2023_09_26_07_10_29'], [3.3]],\n",
       " [['flegrei_2023_10_16_10_36_21'], [3.6]],\n",
       " [['flegrei_2024_04_14_07_44_24'], [3.7]],\n",
       " [['flegrei_2024_05_20_17_51_14'], [3.5]],\n",
       " [['flegrei_2024_05_20_21_00_55'], [3.6]],\n",
       " [['flegrei_2024_05_22_06_28_00'], [3.6]],\n",
       " [['flegrei_2024_06_08_01_52_04'], [3.5]],\n",
       " [['flegrei_2024_06_08_02_09_03'], [3.7]],\n",
       " [['flegrei_2024_06_18_01_58_24'], [3.4]],\n",
       " [['flegrei_2024_07_18_06_08_37'], [3.6]],\n",
       " [['flegrei_2024_08_30_19_23_15'], [3.7]],\n",
       " [['flegrei_2024_12_06_04_33_59'], [3.4]],\n",
       " [['flegrei_2025_01_17_16_53_50'], [3.3]]]"
      ]
     },
     "execution_count": 7,
     "metadata": {},
     "output_type": "execute_result"
    }
   ],
   "source": [
    "l_L=[]\n",
    "count_L=0\n",
    "cat_L=[]\n",
    "for ev in cat:\n",
    "    mag=float(ev.tags[1].split(':')[1])\n",
    "    if interval_L_min<=mag<interval_L_max:\n",
    "            count_L+=1\n",
    "            l_L.append( [ [ev.name] , [mag] ] )\n",
    "            cat_L.append(ev)\n",
    "\n",
    "print('selected events between mag',interval_L_min,'and mag',interval_L_max, ' :  ',count_L)\n",
    "#l_L.sort(key=lambda x: x[1], reverse=False)\n",
    "\n",
    "model.dump_events(cat_L, '/Users/giaco/UNI/PhD_CODE/GIT/CAMPI_FLEGREI_moment_tensor/CAT/catalogue_flegrei_mag_2_5_L.pf')\n",
    "\n",
    "l_L"
   ]
  },
  {
   "cell_type": "code",
   "execution_count": 8,
   "metadata": {},
   "outputs": [
    {
     "name": "stdout",
     "output_type": "stream",
     "text": [
      "selected events between mag 2.75 and mag 3.25  :   35\n"
     ]
    },
    {
     "data": {
      "text/plain": [
       "[[['flegrei_2019_12_06_00_17_23'], [3.1]],\n",
       " [['flegrei_2022_04_19_02_05_54'], [2.94]],\n",
       " [['flegrei_2023_02_05_00_45_36'], [2.97]],\n",
       " [['flegrei_2023_03_13_22_40_53'], [2.83]],\n",
       " [['flegrei_2023_04_10_03_54_45'], [2.92]],\n",
       " [['flegrei_2023_06_15_15_39_40'], [2.89]],\n",
       " [['flegrei_2023_08_18_04_22_49'], [3.12]],\n",
       " [['flegrei_2023_09_12_02_28_50'], [2.9]],\n",
       " [['flegrei_2023_09_22_09_01_59'], [3.2]],\n",
       " [['flegrei_2023_09_24_15_35_02'], [2.8]],\n",
       " [['flegrei_2023_10_01_13_33_09'], [2.9]],\n",
       " [['flegrei_2023_11_23_18_41_46'], [3.0]],\n",
       " [['flegrei_2024_03_03_09_01_59'], [3.2]],\n",
       " [['flegrei_2024_04_09_20_32_10'], [2.8]],\n",
       " [['flegrei_2024_04_14_08_01_43'], [3.0]],\n",
       " [['flegrei_2024_05_07_01_47_54'], [3.2]],\n",
       " [['flegrei_2024_05_07_03_53_22'], [2.9]],\n",
       " [['flegrei_2024_05_07_17_37_25'], [2.8]],\n",
       " [['flegrei_2024_05_13_01_30_20'], [2.9]],\n",
       " [['flegrei_2024_05_18_04_30_55'], [2.8]],\n",
       " [['flegrei_2024_05_20_19_55_37'], [3.1]],\n",
       " [['flegrei_2024_07_02_13_10_14'], [2.9]],\n",
       " [['flegrei_2024_07_03_00_18_44'], [3.2]],\n",
       " [['flegrei_2024_08_18_00_29_21'], [2.8]],\n",
       " [['flegrei_2025_02_05_07_52_02'], [3.1]],\n",
       " [['flegrei_2025_02_16_22_45_12'], [3.0]],\n",
       " [['flegrei_2025_02_16_22_46_47'], [3.0]],\n",
       " [['flegrei_2025_02_17_07_12_10'], [3.2]],\n",
       " [['flegrei_2025_02_17_20_23_44'], [2.8]],\n",
       " [['flegrei_2025_02_18_02_22_19'], [3.1]],\n",
       " [['flegrei_2025_02_19_00_31_12'], [3.1]],\n",
       " [['flegrei_2025_02_19_03_04_15'], [3.0]],\n",
       " [['flegrei_2025_02_19_14_55_11'], [3.1]],\n",
       " [['flegrei_2025_03_06_23_38_43'], [3.2]],\n",
       " [['flegrei_2025_03_11_02_04_09'], [3.0]]]"
      ]
     },
     "execution_count": 8,
     "metadata": {},
     "output_type": "execute_result"
    }
   ],
   "source": [
    "l_M=[]\n",
    "count_M=0\n",
    "cat_M=[]\n",
    "for ev in cat:\n",
    "    mag=float(ev.tags[1].split(':')[1])\n",
    "    if interval_M_min<=mag<interval_M_max:\n",
    "            count_M+=1\n",
    "            l_M.append( [ [ev.name ] , [mag] ] )\n",
    "            cat_M.append(ev)\n",
    "\n",
    "print('selected events between mag',interval_M_min,'and mag',interval_M_max, ' :  ',count_M)\n",
    "#l_M.sort(key=lambda x: x[1], reverse=False)\n",
    "\n",
    "model.dump_events(cat_M, '/Users/giaco/UNI/PhD_CODE/GIT/CAMPI_FLEGREI_moment_tensor/CAT/catalogue_flegrei_mag_2_5_M.pf')\n",
    "\n",
    "l_M"
   ]
  },
  {
   "cell_type": "code",
   "execution_count": 9,
   "metadata": {},
   "outputs": [
    {
     "name": "stdout",
     "output_type": "stream",
     "text": [
      "selected events between mag 1.0 and mag 2.75  :   38\n"
     ]
    },
    {
     "data": {
      "text/plain": [
       "[[['flegrei_2018_09_18_21_36_41'], [2.5]],\n",
       " [['flegrei_2019_03_15_04_26_41'], [2.5]],\n",
       " [['flegrei_2020_04_08_00_50_29'], [2.7]],\n",
       " [['flegrei_2020_04_26_02_41_13'], [2.7]],\n",
       " [['flegrei_2020_12_28_08_09_43'], [2.6]],\n",
       " [['flegrei_2022_07_30_03_27_48'], [2.51]],\n",
       " [['flegrei_2022_11_12_21_37_54'], [2.67]],\n",
       " [['flegrei_2023_01_19_08_44_30'], [2.59]],\n",
       " [['flegrei_2023_03_04_13_15_20'], [2.6]],\n",
       " [['flegrei_2023_03_24_05_24_43'], [2.59]],\n",
       " [['flegrei_2023_04_23_00_35_20'], [1.99]],\n",
       " [['flegrei_2023_05_08_22_33_17'], [2.69]],\n",
       " [['flegrei_2023_08_18_04_10_30'], [2.53]],\n",
       " [['flegrei_2023_08_27_21_14_23'], [2.61]],\n",
       " [['flegrei_2023_09_26_06_31_43'], [2.5]],\n",
       " [['flegrei_2023_09_29_21_57_58'], [2.7]],\n",
       " [['flegrei_2023_10_04_08_46_55'], [2.6]],\n",
       " [['flegrei_2024_01_21_09_35_04'], [2.6]],\n",
       " [['flegrei_2024_02_17_18_09_50'], [2.7]],\n",
       " [['flegrei_2024_04_04_05_14_36'], [2.7]],\n",
       " [['flegrei_2024_04_06_11_59_31'], [2.5]],\n",
       " [['flegrei_2024_04_14_07_57_58'], [2.5]],\n",
       " [['flegrei_2024_04_14_08_08_31'], [2.4]],\n",
       " [['flegrei_2024_04_16_03_38_05'], [2.5]],\n",
       " [['flegrei_2024_04_26_01_47_42'], [2.6]],\n",
       " [['flegrei_2024_05_08_05_29_10'], [2.6]],\n",
       " [['flegrei_2024_05_13_20_49_58'], [2.3]],\n",
       " [['flegrei_2024_05_25_01_03_23'], [2.7]],\n",
       " [['flegrei_2024_07_11_09_59_20'], [2.6]],\n",
       " [['flegrei_2024_10_12_04_54_23'], [2.5]],\n",
       " [['flegrei_2024_10_13_06_07_53'], [2.6]],\n",
       " [['flegrei_2025_02_12_22_27_14'], [2.5]],\n",
       " [['flegrei_2025_02_13_22_18_28'], [2.6]],\n",
       " [['flegrei_2025_02_16_16_30_41'], [2.7]],\n",
       " [['flegrei_2025_02_17_16_53_24'], [2.7]],\n",
       " [['flegrei_2025_02_17_17_15_54'], [2.6]],\n",
       " [['flegrei_2025_02_17_17_55_35'], [2.6]],\n",
       " [['flegrei_2025_03_09_23_59_14'], [2.6]]]"
      ]
     },
     "execution_count": 9,
     "metadata": {},
     "output_type": "execute_result"
    }
   ],
   "source": [
    "l_S=[]\n",
    "count_S=0\n",
    "cat_S=[]\n",
    "for ev in cat:\n",
    "    mag=float(ev.tags[1].split(':')[1])\n",
    "    if interval_S_min<=mag<interval_S_max :\n",
    "            count_S+=1\n",
    "            l_S.append( [ [ev.name] , [mag] ] )\n",
    "            cat_S.append(ev)\n",
    "\n",
    "print('selected events between mag',interval_S_min,'and mag',interval_S_max, ' :  ',count_S)\n",
    "#l_S.sort(key=lambda x: x[1], reverse=False)\n",
    "\n",
    "model.dump_events(cat_S, '/Users/giaco/UNI/PhD_CODE/GIT/CAMPI_FLEGREI_moment_tensor/CAT/catalogue_flegrei_mag_2_5_S.pf')\n",
    "\n",
    "l_S"
   ]
  },
  {
   "cell_type": "code",
   "execution_count": 10,
   "metadata": {},
   "outputs": [
    {
     "name": "stdout",
     "output_type": "stream",
     "text": [
      "103 =?= 102\n"
     ]
    }
   ],
   "source": [
    "tot=count_S+count_M+count_L+count_XL + 1#XXL\n",
    "print(tot,'=?=',len(cat))"
   ]
  },
  {
   "cell_type": "markdown",
   "metadata": {},
   "source": [
    "# Catalogue with deviatoric components of the FULL inversion"
   ]
  },
  {
   "cell_type": "code",
   "execution_count": null,
   "metadata": {},
   "outputs": [],
   "source": [
    "from pyrocko import moment_tensor, orthodrome\n",
    "cat_filename=os.path.join(catdir,'catalogue_flegrei_MT_final_FULL_2.pf')\n",
    "cat=model.load_events(cat_filename)\n",
    "\n",
    "nonDC=[]\n",
    "count_ev=0\n",
    "percentage=50\n",
    "mag=[]\n",
    "for ev in cat:\n",
    "    decomposition=ev.moment_tensor.standard_decomposition()\n",
    "    #(moment_iso, ratio_iso, m_iso)=decomposition[0]\n",
    "    #(moment_dc, ratio_dc, m_dc)=decomposition[1]\n",
    "    #(moment_clvd, ratio_clvd, m_clvd)=decomposition[2]\n",
    "    (moment_devi, ratio_devi, m_devi)=decomposition[3]\n",
    "    #print(ev.moment_tensor.__dict__)\n",
    "    mtdevi=moment_tensor.MomentTensor(m_devi)\n",
    "    ev.moment_tensor = mtdevi\n",
    "    #print(ev.moment_tensor.__dict__ ,'\\n')\n",
    "\n",
    "cat_filename_devi=os.path.join(catdir,'catalogue_flegrei_MT_final_FULL_devi_2.pf')\n",
    "model.dump_events(cat, cat_filename_devi)\n"
   ]
  }
 ],
 "metadata": {
  "kernelspec": {
   "display_name": "Python 3",
   "language": "python",
   "name": "python3"
  },
  "language_info": {
   "codemirror_mode": {
    "name": "ipython",
    "version": 3
   },
   "file_extension": ".py",
   "mimetype": "text/x-python",
   "name": "python",
   "nbconvert_exporter": "python",
   "pygments_lexer": "ipython3",
   "version": "3.11.11"
  }
 },
 "nbformat": 4,
 "nbformat_minor": 2
}
