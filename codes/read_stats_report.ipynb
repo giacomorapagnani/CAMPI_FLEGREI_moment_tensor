{
 "cells": [
  {
   "cell_type": "code",
   "execution_count": 1,
   "metadata": {},
   "outputs": [],
   "source": [
    "from pyrocko import util, model, io, trace, moment_tensor, gmtpy,orthodrome\n",
    "from pyrocko import orthodrome as od\n",
    "from pyrocko.client import catalog\n",
    "from pyrocko.automap import Map\n",
    "import pyrocko.moment_tensor as pmt\n",
    "from pyrocko.plot import mpl_color\n",
    "from pyrocko.guts import load\n",
    "# from seiscloud import plot as scp\n",
    "# from seiscloud import cluster as scc\n",
    "import numpy as np\n",
    "import os\n",
    "# import shutil\n",
    "import matplotlib.pyplot as plt\n",
    "import pygmt\n",
    "import grond"
   ]
  },
  {
   "cell_type": "code",
   "execution_count": 2,
   "metadata": {},
   "outputs": [],
   "source": [
    "filepath= '/Users/giaco/UNI/PhD_CODE/GIT/scenario_composite/report/scenario_ev001/cmt_composite_scenario_ev001'"
   ]
  },
  {
   "cell_type": "code",
   "execution_count": null,
   "metadata": {},
   "outputs": [
    {
     "name": "stdout",
     "output_type": "stream",
     "text": [
      "All events in catalogue: 14\n",
      "Good events in catalogue: 14\n",
      "\n",
      "VLP frequency: 0.1143 +- 0.0015\n",
      "VLP duration: 26.84 +- 5.606\n"
     ]
    }
   ],
   "source": [
    "lat=[]\n",
    "lon=[]\n",
    "\n",
    "d=[]\n",
    "mag=[]\n",
    "\n",
    "rmnn=[]\n",
    "rmee=[]\n",
    "rmdd=[]\n",
    "rmne=[]\n",
    "rmmd=[]\n",
    "rmed=[]\n",
    "\n",
    "fname = os.path.join(filepath, 'stats.yaml')    \n",
    "stats=load(filename=fname)\n",
    "tmp_name=stats.problem.name\n",
    "for stat in stats.parameter_stats_list:\n",
    "    if stat.name=='a.depth':\n",
    "        d.append(stat.best)\n",
    "    if stat.name=='a.magnitude':\n",
    "        mag.append(stat.best)\n",
    "    if stat.name=='a.rmnn':\n",
    "        rmnn.append(stat.best)\n",
    "    if stat.name=='a.rmee':\n",
    "        rmee.append(stat.best)\n",
    "    if stat.name=='':\n",
    "        .append(stat.best)\n",
    "    if stat.name=='':\n",
    "        .append(stat.best)\n",
    "    if stat.name=='':\n",
    "        .append(stat.best)\n",
    "    if stat.name=='':\n",
    "        .append(stat.best)\n",
    "\n",
    "mean_f=np.mean(freq)\n",
    "std_f=np.std(freq)\n",
    "print(f'\\nVLP frequency: {mean_f:1.4} +- {std_f:1.2}')\n",
    "\n",
    "mean_d=np.mean(duration)\n",
    "std_d=np.std(duration)\n",
    "print(f'VLP duration: {mean_d:2.4} +- {std_d:2.4}')"
   ]
  }
 ],
 "metadata": {
  "kernelspec": {
   "display_name": "Python 3",
   "language": "python",
   "name": "python3"
  },
  "language_info": {
   "codemirror_mode": {
    "name": "ipython",
    "version": 3
   },
   "file_extension": ".py",
   "mimetype": "text/x-python",
   "name": "python",
   "nbconvert_exporter": "python",
   "pygments_lexer": "ipython3",
   "version": "3.11.11"
  }
 },
 "nbformat": 4,
 "nbformat_minor": 2
}
