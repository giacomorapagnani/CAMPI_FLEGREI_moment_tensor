{
 "cells": [
  {
   "cell_type": "code",
   "execution_count": 1,
   "metadata": {},
   "outputs": [],
   "source": [
    "from pyrocko import util, model, io, trace, moment_tensor, gmtpy,orthodrome\n",
    "from pyrocko import orthodrome as od\n",
    "from pyrocko.client import catalog\n",
    "from pyrocko.automap import Map\n",
    "import pyrocko.moment_tensor as pmt\n",
    "from pyrocko.plot import mpl_color\n",
    "from pyrocko.guts import load\n",
    "# from seiscloud import plot as scp\n",
    "# from seiscloud import cluster as scc\n",
    "import numpy as np\n",
    "import os\n",
    "# import shutil\n",
    "import matplotlib.pyplot as plt\n",
    "import pygmt\n",
    "import grond"
   ]
  },
  {
   "cell_type": "markdown",
   "metadata": {},
   "source": [
    "# MT final VT"
   ]
  },
  {
   "cell_type": "code",
   "execution_count": 2,
   "metadata": {},
   "outputs": [],
   "source": [
    "workdir='../'\n",
    "filename='catalogue_flegrei_MT_final'\n",
    "catdir=os.path.join(workdir,'CAT')\n",
    "catname=os.path.join(catdir,filename+'.pf')\n",
    "\n",
    "events=model.load_events(catname)\n",
    "\n",
    "txt_cat_name=os.path.join(catdir,filename+'.txt')\n",
    "\n",
    "events_txt=[]\n",
    "\n",
    "for ev in events:\n",
    "    name=ev.name\n",
    "    lat= str(ev.lat)\n",
    "    lon=str(ev.lon)\n",
    "    depth=str(ev.depth)\n",
    "    mag = str(ev.magnitude)\n",
    "\n",
    "    s1=str(ev.moment_tensor.strike1)\n",
    "    d1=str(ev.moment_tensor.dip1)\n",
    "    r1=str(ev.moment_tensor.rake1)\n",
    "    msix = pmt.to6(ev.moment_tensor.m_up_south_east())\n",
    "    events_txt.append(name+','+lat+','+lon+','+depth+','+mag+','+s1+','+d1+','+r1+','+\n",
    "                       str(msix[0])+','+str(msix[1])+','+str(msix[2])+','+str(msix[3])+','+str(msix[4])+','+str(msix[5]))\n",
    "\n",
    "with open(txt_cat_name, 'w') as output:\n",
    "    output.write('name,lat,lon,depth,mag,strike1,dip1,rake1,m1,m2,m3,m4,m5,m6\\n')\n",
    "    for row in events_txt:\n",
    "        output.write(str(row) + '\\n')"
   ]
  },
  {
   "cell_type": "markdown",
   "metadata": {},
   "source": [
    "# MT final VLP"
   ]
  },
  {
   "cell_type": "code",
   "execution_count": 3,
   "metadata": {},
   "outputs": [],
   "source": [
    "workdir='../'\n",
    "filename='catalogue_flegrei_MT_final_VLP_reloc'\n",
    "catdir=os.path.join(workdir,'CAT')\n",
    "catname=os.path.join(catdir,filename+'.pf')\n",
    "\n",
    "events=model.load_events(catname)\n",
    "\n",
    "txt_cat_name=os.path.join(catdir,filename+'.txt')\n",
    "\n",
    "events_txt=[]\n",
    "\n",
    "for ev in events:\n",
    "    name=ev.name\n",
    "    lat= str(ev.lat)\n",
    "    lon=str(ev.lon)\n",
    "    depth=str(ev.depth)\n",
    "    mag = str(ev.magnitude)\n",
    "\n",
    "    s1=str(ev.moment_tensor.strike1)\n",
    "    d1=str(ev.moment_tensor.dip1)\n",
    "    r1=str(ev.moment_tensor.rake1)\n",
    "    msix = pmt.to6(ev.moment_tensor.m_up_south_east())\n",
    "    events_txt.append(name+','+lat+','+lon+','+depth+','+mag+','+s1+','+d1+','+r1+','+\n",
    "                       str(msix[0])+','+str(msix[1])+','+str(msix[2])+','+str(msix[3])+','+str(msix[4])+','+str(msix[5]))\n",
    "\n",
    "with open(txt_cat_name, 'w') as output:\n",
    "    output.write('name,lat,lon,depth,mag,strike1,dip1,rake1,m1,m2,m3,m4,m5,m6\\n')\n",
    "    for row in events_txt:\n",
    "        output.write(str(row) + '\\n')"
   ]
  },
  {
   "cell_type": "markdown",
   "metadata": {},
   "source": [
    "# GOSSIP "
   ]
  },
  {
   "cell_type": "code",
   "execution_count": 14,
   "metadata": {},
   "outputs": [],
   "source": [
    "workdir='../'\n",
    "\n",
    "catdir=os.path.join(workdir,'CAT')\n",
    "catdir=os.path.join(catdir,'GOSSIP')\n",
    "\n",
    "filename='catalogue_flegrei_GOSSIP'               #CHANGE\n",
    "catname=os.path.join(catdir,filename+'.pf')\n",
    "events=model.load_events(catname)\n",
    "\n",
    "catname_filtered=os.path.join(catdir,filename+'_filtered.txt')\n",
    "\n",
    "min_mag=1.\n",
    "events_txt=[]\n",
    "for ev in events:\n",
    "    if ev.magnitude >= min_mag:\n",
    "        name=ev.name\n",
    "        lat= str(ev.lat)\n",
    "        lon=str(ev.lon)\n",
    "        depth=str(ev.depth)\n",
    "        mag = str(ev.magnitude)\n",
    "        events_txt.append(name+','+lat+','+lon+','+depth+','+mag)\n",
    "\n",
    "with open(catname_filtered, 'w') as output:\n",
    "    output.write('name,lat,lon,depth,mag\\n')\n",
    "    for row in events_txt:\n",
    "        output.write(str(row) + '\\n')\n"
   ]
  },
  {
   "cell_type": "markdown",
   "metadata": {},
   "source": [
    "# catalogue Gossip > 2.5"
   ]
  },
  {
   "cell_type": "code",
   "execution_count": 3,
   "metadata": {},
   "outputs": [],
   "source": [
    "workdir='../'\n",
    "\n",
    "catdir=os.path.join(workdir,'CAT')\n",
    "\n",
    "filename='catalogue_flegrei_mag_2_5'               #CHANGE\n",
    "catname=os.path.join(catdir,filename+'.pf')\n",
    "events=model.load_events(catname)\n",
    "\n",
    "catname_filtered=os.path.join(catdir,filename+'_qgis.txt')\n",
    "\n",
    "events_txt=[]\n",
    "for ev in events:\n",
    "        name=ev.name\n",
    "        lat= str(ev.lat)\n",
    "        lon=str(ev.lon)\n",
    "        depth=str(ev.depth)\n",
    "        mag=ev.tags[1].split(':')[1]\n",
    "        events_txt.append(name+','+lat+','+lon+','+depth+','+mag)\n",
    "\n",
    "with open(catname_filtered, 'w') as output:\n",
    "    output.write('name,lat,lon,depth,magnitude\\n')\n",
    "    for row in events_txt:\n",
    "        output.write(str(row) + '\\n')"
   ]
  },
  {
   "cell_type": "markdown",
   "metadata": {},
   "source": [
    "# events excluded"
   ]
  },
  {
   "cell_type": "code",
   "execution_count": 4,
   "metadata": {},
   "outputs": [],
   "source": [
    "workdir='../'\n",
    "\n",
    "catdir=os.path.join(workdir,'CAT')\n",
    "\n",
    "filename='catalogue_flegrei_mag_2_5_excluded'               #CHANGE\n",
    "catname=os.path.join(catdir,filename+'.pf')\n",
    "events=model.load_events(catname)\n",
    "\n",
    "catname_filtered=os.path.join(catdir,filename+'_qgis.txt')\n",
    "\n",
    "events_txt=[]\n",
    "for ev in events:\n",
    "        name=ev.name\n",
    "        lat= str(ev.lat)\n",
    "        lon=str(ev.lon)\n",
    "        depth=str(ev.depth)\n",
    "        events_txt.append(name+','+lat+','+lon+','+depth)\n",
    "\n",
    "with open(catname_filtered, 'w') as output:\n",
    "    output.write('name,lat,lon,depth\\n')\n",
    "    for row in events_txt:\n",
    "        output.write(str(row) + '\\n')"
   ]
  },
  {
   "cell_type": "markdown",
   "metadata": {},
   "source": [
    "# only magnitudes"
   ]
  },
  {
   "cell_type": "code",
   "execution_count": 3,
   "metadata": {},
   "outputs": [],
   "source": [
    "workdir='../'\n",
    "filename='catalogue_flegrei_MT_final'\n",
    "catdir=os.path.join(workdir,'CAT')\n",
    "catname=os.path.join(catdir,filename+'.pf')\n",
    "\n",
    "events=model.load_events(catname)\n",
    "\n",
    "txt_cat_name=os.path.join(catdir,filename+'_only_mag.txt')\n",
    "\n",
    "events_txt=[]\n",
    "\n",
    "for ev in events:\n",
    "    name=ev.name\n",
    "    lat= str(ev.lat)\n",
    "    lon=str(ev.lon)\n",
    "    depth=str(ev.depth)\n",
    "    mag = str(ev.magnitude)\n",
    "\n",
    "    s1=str(ev.moment_tensor.strike1)\n",
    "    d1=str(ev.moment_tensor.dip1)\n",
    "    r1=str(ev.moment_tensor.rake1)\n",
    "    msix = pmt.to6(ev.moment_tensor.m_up_south_east())\n",
    "    events_txt.append(mag)\n",
    "\n",
    "with open(txt_cat_name, 'w') as output:\n",
    "    #output.write('name,lat,lon,depth,mag,strike1,dip1,rake1,m1,m2,m3,m4,m5,m6\\n')\n",
    "    for row in events_txt:\n",
    "        output.write(str(row) + '\\n')"
   ]
  },
  {
   "cell_type": "markdown",
   "metadata": {},
   "source": [
    "# stations"
   ]
  },
  {
   "cell_type": "code",
   "execution_count": 13,
   "metadata": {},
   "outputs": [],
   "source": [
    "workdir='../'\n",
    "\n",
    "matadatadir=os.path.join(workdir,'META_DATA')\n",
    "filename='stations_flegrei_INGV_final'               #CHANGE\n",
    "\n",
    "stationname=os.path.join(matadatadir,filename+'.pf')\n",
    "stations=model.load_stations(stationname)\n",
    "\n",
    "stations_txt_name=os.path.join(matadatadir,filename+'.txt')\n",
    "\n",
    "stations_txt=[]\n",
    "for st in stations:\n",
    "    name=st.station\n",
    "    lat= str(st.lat)\n",
    "    lon=str(st.lon)\n",
    "    el=str(st.elevation)\n",
    "    stations_txt.append(name+','+lat+','+lon+','+el)\n",
    "\n",
    "with open(stations_txt_name, 'w') as output:\n",
    "    output.write('station,lat,lon,elevation\\n')\n",
    "    for row in stations_txt:\n",
    "        output.write(str(row) + '\\n')"
   ]
  }
 ],
 "metadata": {
  "kernelspec": {
   "display_name": "Python 3",
   "language": "python",
   "name": "python3"
  },
  "language_info": {
   "codemirror_mode": {
    "name": "ipython",
    "version": 3
   },
   "file_extension": ".py",
   "mimetype": "text/x-python",
   "name": "python",
   "nbconvert_exporter": "python",
   "pygments_lexer": "ipython3",
   "version": "3.11.11"
  }
 },
 "nbformat": 4,
 "nbformat_minor": 2
}
