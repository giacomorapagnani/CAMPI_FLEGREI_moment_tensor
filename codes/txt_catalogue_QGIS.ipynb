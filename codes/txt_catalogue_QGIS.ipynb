{
 "cells": [
  {
   "cell_type": "code",
   "execution_count": 2,
   "metadata": {},
   "outputs": [],
   "source": [
    "from pyrocko import util, model, io, trace, moment_tensor, gmtpy,orthodrome\n",
    "from pyrocko import orthodrome as od\n",
    "from pyrocko.client import catalog\n",
    "from pyrocko.automap import Map\n",
    "import pyrocko.moment_tensor as pmt\n",
    "from pyrocko.plot import mpl_color\n",
    "from pyrocko.guts import load\n",
    "# from seiscloud import plot as scp\n",
    "# from seiscloud import cluster as scc\n",
    "import numpy as np\n",
    "import os\n",
    "# import shutil\n",
    "import matplotlib.pyplot as plt\n",
    "import pygmt\n",
    "import grond"
   ]
  },
  {
   "cell_type": "markdown",
   "metadata": {},
   "source": [
    "# MT final"
   ]
  },
  {
   "cell_type": "code",
   "execution_count": 21,
   "metadata": {},
   "outputs": [],
   "source": [
    "workdir='../'\n",
    "reportdir=os.path.join(workdir,'report')                                #main report dir\n",
    "\n",
    "filename='catalogue_flegrei_MT_final'\n",
    "catdir=os.path.join(workdir,'CAT')\n",
    "catname=os.path.join(catdir,filename+'.pf')\n",
    "\n",
    "events=model.load_events(catname)\n",
    "\n",
    "txt_cat_name=os.path.join(catdir,filename+'.txt')\n",
    "\n",
    "events_txt=[]\n",
    "\n",
    "for ev in events:\n",
    "    lat= str(ev.lat)\n",
    "    lon=str(ev.lon)\n",
    "    depth=str(ev.depth)\n",
    "    mag = str(ev.magnitude)\n",
    "\n",
    "    s1=str(ev.moment_tensor.strike1)\n",
    "    d1=str(ev.moment_tensor.dip1)\n",
    "    r1=str(ev.moment_tensor.rake1)\n",
    "    msix = pmt.to6(ev.moment_tensor.m_up_south_east())\n",
    "    events_txt.append(lat+','+lon+','+depth+','+mag+','+s1+','+d1+','+r1+','+\n",
    "                       str(msix[0])+','+str(msix[1])+','+str(msix[2])+','+str(msix[3])+','+str(msix[4])+','+str(msix[5]))\n",
    "\n",
    "    with open(txt_cat_name, 'w') as output:\n",
    "        for row in events_txt:\n",
    "            output.write(str(row) + '\\n')"
   ]
  }
 ],
 "metadata": {
  "kernelspec": {
   "display_name": "Python 3",
   "language": "python",
   "name": "python3"
  },
  "language_info": {
   "codemirror_mode": {
    "name": "ipython",
    "version": 3
   },
   "file_extension": ".py",
   "mimetype": "text/x-python",
   "name": "python",
   "nbconvert_exporter": "python",
   "pygments_lexer": "ipython3",
   "version": "3.11.11"
  }
 },
 "nbformat": 4,
 "nbformat_minor": 2
}
