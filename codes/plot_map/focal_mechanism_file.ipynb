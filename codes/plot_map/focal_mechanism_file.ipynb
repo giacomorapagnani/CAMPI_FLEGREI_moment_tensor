{
 "cells": [
  {
   "cell_type": "code",
   "execution_count": 4,
   "metadata": {},
   "outputs": [
    {
     "name": "stdout",
     "output_type": "stream",
     "text": [
      "40.827499\n",
      "14.148\n",
      "2018-09-18 21:36:41.591366768\n",
      "1.9936570536959177\n",
      "-497638311997.3847\n",
      "72.93772845736349\n",
      "1.9936570536959177\n"
     ]
    }
   ],
   "source": [
    "import yaml\n",
    "from yaml import SafeLoader\n",
    "\n",
    "class Event:\n",
    "    def __init__(self, **kwargs):\n",
    "        self.__dict__.update(kwargs)\n",
    "\n",
    "class MomentTensor:\n",
    "    def __init__(self, **kwargs):\n",
    "        self.__dict__.update(kwargs)\n",
    "\n",
    "def event_constructor(loader, node):\n",
    "    return Event(**loader.construct_mapping(node))\n",
    "\n",
    "def moment_tensor_constructor(loader, node):\n",
    "    return MomentTensor(**loader.construct_mapping(node))\n",
    "\n",
    "class CustomLoader(SafeLoader):\n",
    "    pass\n",
    "\n",
    "CustomLoader.add_constructor('!pf.Event', event_constructor)\n",
    "CustomLoader.add_constructor('!pf.MomentTensor', moment_tensor_constructor)\n",
    "\n",
    "# Supponiamo che il file si chiami \"evento.yaml\"\n",
    "with open('../../report/flegrei_2018_09_18_21_36_41/cmt_devi_near_05_2_far_005_01_td_fd_flegrei_2018_09_18_21_36_41/event.solution.mean.yaml', 'r') as file:\n",
    "    data = yaml.load(file, Loader=CustomLoader)\n"
   ]
  },
  {
   "cell_type": "code",
   "execution_count": 7,
   "metadata": {},
   "outputs": [
    {
     "name": "stdout",
     "output_type": "stream",
     "text": [
      "flegrei_2018_09_18_21_36_41\n",
      "40.827499\n",
      "14.148\n",
      "72.93772845736349\n",
      "75.71574254175185\n",
      "-2.989645587913816\n",
      "1.9936570536959177\n",
      "2638.8941881877868\n"
     ]
    }
   ],
   "source": [
    "# Ora puoi accedere ai dati\n",
    "print(data.name)\n",
    "print(data.lat)\n",
    "print(data.lon)\n",
    "\n",
    "# Per accedere ai dati del momento tensoriale\n",
    "moment_tensor = data.moment_tensor\n",
    "print(moment_tensor.strike1)\n",
    "print(moment_tensor.dip1)\n",
    "print(moment_tensor.rake1)\n",
    "print(moment_tensor.magnitude)\n",
    "\n",
    "print(data.depth)"
   ]
  },
  {
   "cell_type": "code",
   "execution_count": null,
   "metadata": {},
   "outputs": [],
   "source": [
    "import os\n",
    "import pandas as pd\n",
    "import yaml\n",
    "\n",
    "# Step 1: Specificare la cartella da cui leggere i file\n",
    "dir_reports = '/Users/giaco/UNI/PhD_CODE/GIT/CAMPI_FLEGREI_moment_tensor/report'\n",
    "\n",
    "# Step 2: Creare il DataFrame vuoto con le colonne predefinite\n",
    "df = pd.DataFrame(columns=['event_name','latitude','longitude','strike','dip','rake','magnitude','depth'])\n",
    "\n",
    "# Step 3: Iterare sui file e aggiungere i dati riga per riga\n",
    "for ev_name in os.listdir(dir_reports):\n",
    "    if ev_name.startswith('flegrei'):\n",
    "        dir_ev = os.path.join(dir_reports, ev_name)\n",
    "\n",
    "        for config_name in os.listdir(dir_ev):\n",
    "            if config_name.startswith('cmt_devi_near_05_2_far_008_03_td_fd'):       #CHANGE CONFIG NAME\n",
    "                dir_config= os.path.join(dir_ev,config_name)\n",
    "                with open(dir_config + 'event.solution.mean.yaml', 'r') as file:\n",
    "                    yaml_data = yaml.safe_load(file)\n",
    "            else:\n",
    "                print('for event: ',ev_name, ' config file: ', config_name, ' NOT FOUND!')\n",
    "\n",
    "\n",
    "\n",
    "        if os.path.isfile(file_path): \n",
    "            # Prendere i valori da vari file (per esempio, nome, dimensione, data modifica)\n",
    "            nome_file = file_name  # Nome del file\n",
    "            dimensione_file = os.path.getsize(file_path)  # Dimensione del file\n",
    "            data_modifica = os.path.getmtime(file_path)  # Data ultima modifica\n",
    "\n",
    "            # Step 4: Creare un dizionario con i valori della riga\n",
    "            row_data = {'NomeFile': nome_file, 'Dimensione': dimensione_file, 'DataModifica': data_modifica}\n",
    "\n",
    "            # Step 5: Aggiungere la riga al DataFrame\n",
    "            df = df.append(row_data, ignore_index=True)\n",
    "\n",
    "# Step 6: Salvare il DataFrame come file CSV\n",
    "df.to_csv('output.csv', index=False)\n",
    "\n",
    "print(df)\n"
   ]
  }
 ],
 "metadata": {
  "kernelspec": {
   "display_name": "Python 3",
   "language": "python",
   "name": "python3"
  },
  "language_info": {
   "codemirror_mode": {
    "name": "ipython",
    "version": 3
   },
   "file_extension": ".py",
   "mimetype": "text/x-python",
   "name": "python",
   "nbconvert_exporter": "python",
   "pygments_lexer": "ipython3",
   "version": "3.11.7"
  }
 },
 "nbformat": 4,
 "nbformat_minor": 2
}
