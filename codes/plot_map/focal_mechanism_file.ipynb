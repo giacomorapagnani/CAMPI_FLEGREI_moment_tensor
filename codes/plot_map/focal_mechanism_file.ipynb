{
 "cells": [
  {
   "cell_type": "code",
   "execution_count": 2,
   "metadata": {},
   "outputs": [],
   "source": [
    "import yaml\n",
    "from yaml import SafeLoader\n",
    "\n",
    "class Event:\n",
    "    def __init__(self, **kwargs):\n",
    "        self.__dict__.update(kwargs)\n",
    "\n",
    "class MomentTensor:\n",
    "    def __init__(self, **kwargs):\n",
    "        self.__dict__.update(kwargs)\n",
    "\n",
    "def event_constructor(loader, node):\n",
    "    return Event(**loader.construct_mapping(node))\n",
    "\n",
    "def moment_tensor_constructor(loader, node):\n",
    "    return MomentTensor(**loader.construct_mapping(node))\n",
    "\n",
    "class CustomLoader(SafeLoader):\n",
    "    pass\n",
    "\n",
    "CustomLoader.add_constructor('!pf.Event', event_constructor)\n",
    "CustomLoader.add_constructor('!pf.MomentTensor', moment_tensor_constructor)\n",
    "\n",
    "#with open('../../report/flegrei_2018_09_18_21_36_41/cmt_devi_near_05_2_far_005_01_td_fd_flegrei_2018_09_18_21_36_41/event.solution.mean.yaml', 'r') as file:\n",
    "#    data = yaml.load(file, Loader=CustomLoader)\n"
   ]
  },
  {
   "cell_type": "markdown",
   "metadata": {},
   "source": [
    "### Create .csv file from report folder"
   ]
  },
  {
   "cell_type": "code",
   "execution_count": null,
   "metadata": {},
   "outputs": [
    {
     "ename": "FileNotFoundError",
     "evalue": "[Errno 2] No such file or directory: '/Users/giaco/UNI/PhD_CODE/GIT/CAMPI_FLEGREI_moment_tensor/report/report'",
     "output_type": "error",
     "traceback": [
      "\u001b[0;31m---------------------------------------------------------------------------\u001b[0m",
      "\u001b[0;31mFileNotFoundError\u001b[0m                         Traceback (most recent call last)",
      "Cell \u001b[0;32mIn[3], line 13\u001b[0m\n\u001b[1;32m     10\u001b[0m df \u001b[38;5;241m=\u001b[39m pd\u001b[38;5;241m.\u001b[39mDataFrame(columns\u001b[38;5;241m=\u001b[39m[\u001b[38;5;124m'\u001b[39m\u001b[38;5;124mevent_name\u001b[39m\u001b[38;5;124m'\u001b[39m,\u001b[38;5;124m'\u001b[39m\u001b[38;5;124mlatitude\u001b[39m\u001b[38;5;124m'\u001b[39m,\u001b[38;5;124m'\u001b[39m\u001b[38;5;124mlongitude\u001b[39m\u001b[38;5;124m'\u001b[39m,\u001b[38;5;124m'\u001b[39m\u001b[38;5;124mstrike\u001b[39m\u001b[38;5;124m'\u001b[39m,\u001b[38;5;124m'\u001b[39m\u001b[38;5;124mdip\u001b[39m\u001b[38;5;124m'\u001b[39m,\u001b[38;5;124m'\u001b[39m\u001b[38;5;124mrake\u001b[39m\u001b[38;5;124m'\u001b[39m,\u001b[38;5;124m'\u001b[39m\u001b[38;5;124mmagnitude\u001b[39m\u001b[38;5;124m'\u001b[39m,\u001b[38;5;124m'\u001b[39m\u001b[38;5;124mdepth\u001b[39m\u001b[38;5;124m'\u001b[39m])\n\u001b[1;32m     12\u001b[0m \u001b[38;5;66;03m# Step 3: Iterare sui file e aggiungere i dati riga per riga\u001b[39;00m\n\u001b[0;32m---> 13\u001b[0m \u001b[38;5;28;01mfor\u001b[39;00m ev_name \u001b[38;5;129;01min\u001b[39;00m \u001b[43mos\u001b[49m\u001b[38;5;241;43m.\u001b[39;49m\u001b[43mlistdir\u001b[49m\u001b[43m(\u001b[49m\u001b[43mdir_reports\u001b[49m\u001b[43m)\u001b[49m:\n\u001b[1;32m     14\u001b[0m     \u001b[38;5;28;01mif\u001b[39;00m ev_name\u001b[38;5;241m.\u001b[39mstartswith(\u001b[38;5;124m'\u001b[39m\u001b[38;5;124mflegrei\u001b[39m\u001b[38;5;124m'\u001b[39m):\n\u001b[1;32m     15\u001b[0m         dir_ev \u001b[38;5;241m=\u001b[39m os\u001b[38;5;241m.\u001b[39mpath\u001b[38;5;241m.\u001b[39mjoin(dir_reports, ev_name)\n",
      "\u001b[0;31mFileNotFoundError\u001b[0m: [Errno 2] No such file or directory: '/Users/giaco/UNI/PhD_CODE/GIT/CAMPI_FLEGREI_moment_tensor/report/report'"
     ]
    }
   ],
   "source": [
    "import os\n",
    "import pandas as pd\n",
    "import yaml\n",
    "from pyrocko import model\n",
    "\n",
    "# Path report folder\n",
    "dir_reports = '/Users/giaco/UNI/PhD_CODE/GIT/CAMPI_FLEGREI_moment_tensor/report'          #CHANGE DIR NAME\n",
    "\n",
    "# Empty DataFrame \n",
    "df = pd.DataFrame(columns=['event_name','latitude','longitude','strike','dip','rake','magnitude','depth'])\n",
    "\n",
    "# Load catalogue\n",
    "cat_name='../../CAT/catalogue_flegrei_mag_2_5.pf'   \n",
    "cat_pf=model.load_events(cat_name)\n",
    "\n",
    "# Reading event catalogue\n",
    "for ev_name in os.listdir(dir_reports):\n",
    "    if ev_name.startswith('flegrei'):\n",
    "        #event report folder\n",
    "        dir_ev = os.path.join(dir_reports, ev_name)\n",
    "\n",
    "        # take lat and long from catalogue\n",
    "        for ev in cat_pf:\n",
    "            if ev.name==ev_name:\n",
    "                lat=float(ev.lat)\n",
    "                long=float(ev.lon)\n",
    "\n",
    "        for config_name in os.listdir(dir_ev):\n",
    "            config_name_str='cmt_devi_M_flegrei'                                  #CHANGE CONFIG NAME\n",
    "            if config_name.startswith(config_name_str):       \n",
    "                dir_config= os.path.join(dir_ev,config_name)\n",
    "                event_solution_name=os.path.join(dir_config,'event.solution.best.yaml')     #USING BEST SOLUTIONS\n",
    "                # Loads .yaml results\n",
    "                with open(event_solution_name, 'r') as file:\n",
    "                    data = yaml.load(file, Loader=CustomLoader)\n",
    "                depth=float(data.depth)\n",
    "                moment_tensor = data.moment_tensor\n",
    "                strike=float(moment_tensor.strike1)\n",
    "                dip=float(moment_tensor.dip1)\n",
    "                rake=float(moment_tensor.rake1)\n",
    "                magnitude=float(moment_tensor.magnitude)\n",
    "\n",
    "                # Step 4: Creare un dizionario con i valori della riga\n",
    "                row_data = {'longitude':long,'latitude':lat,'strike':strike,\n",
    "                            'dip':dip,'rake':rake,'magnitude':magnitude,\n",
    "                            'depth':depth,'event_name':ev_name,}\n",
    "                # Step 5: Aggiungere la riga al DataFrame\n",
    "                if magnitude >= 0.:     #add only events of magnitude >= 1\n",
    "                    df = pd.concat([df, pd.DataFrame([row_data])], ignore_index=True)\n",
    "\n",
    "# Step 6: Salvare il DataFrame come file CSV\n",
    "df.to_csv('focal_mechanism_'+config_name_str+'.csv', index=False)\n"
   ]
  }
 ],
 "metadata": {
  "kernelspec": {
   "display_name": "Python 3",
   "language": "python",
   "name": "python3"
  },
  "language_info": {
   "codemirror_mode": {
    "name": "ipython",
    "version": 3
   },
   "file_extension": ".py",
   "mimetype": "text/x-python",
   "name": "python",
   "nbconvert_exporter": "python",
   "pygments_lexer": "ipython3",
   "version": "3.11.7"
  }
 },
 "nbformat": 4,
 "nbformat_minor": 2
}
