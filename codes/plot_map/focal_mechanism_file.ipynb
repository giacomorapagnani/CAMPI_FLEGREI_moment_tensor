{
 "cells": [
  {
   "cell_type": "code",
   "execution_count": 15,
   "metadata": {},
   "outputs": [],
   "source": [
    "import yaml\n",
    "from yaml import SafeLoader\n",
    "\n",
    "class Event:\n",
    "    def __init__(self, **kwargs):\n",
    "        self.__dict__.update(kwargs)\n",
    "\n",
    "class MomentTensor:\n",
    "    def __init__(self, **kwargs):\n",
    "        self.__dict__.update(kwargs)\n",
    "\n",
    "def event_constructor(loader, node):\n",
    "    return Event(**loader.construct_mapping(node))\n",
    "\n",
    "def moment_tensor_constructor(loader, node):\n",
    "    return MomentTensor(**loader.construct_mapping(node))\n",
    "\n",
    "class CustomLoader(SafeLoader):\n",
    "    pass\n",
    "\n",
    "CustomLoader.add_constructor('!pf.Event', event_constructor)\n",
    "CustomLoader.add_constructor('!pf.MomentTensor', moment_tensor_constructor)\n",
    "\n",
    "#with open('../../report/flegrei_2018_09_18_21_36_41/cmt_devi_near_05_2_far_005_01_td_fd_flegrei_2018_09_18_21_36_41/event.solution.mean.yaml', 'r') as file:\n",
    "#    data = yaml.load(file, Loader=CustomLoader)\n"
   ]
  },
  {
   "cell_type": "code",
   "execution_count": 16,
   "metadata": {},
   "outputs": [
    {
     "name": "stderr",
     "output_type": "stream",
     "text": [
      "/var/folders/_5/hfq6n3xn3n53jvjz81t_f2r80000gn/T/ipykernel_12642/3762656139.py:45: FutureWarning: The behavior of DataFrame concatenation with empty or all-NA entries is deprecated. In a future version, this will no longer exclude empty or all-NA columns when determining the result dtypes. To retain the old behavior, exclude the relevant entries before the concat operation.\n",
      "  df = pd.concat([df, pd.DataFrame([row_data])], ignore_index=True)\n"
     ]
    }
   ],
   "source": [
    "import os\n",
    "import pandas as pd\n",
    "import yaml\n",
    "from pyrocko import model\n",
    "\n",
    "# Step 1: Specificare la cartella da cui leggere i file\n",
    "dir_reports = '/Users/giaco/UNI/PhD_CODE/GIT/CAMPI_FLEGREI_moment_tensor/report'\n",
    "\n",
    "# Step 2: Creare il DataFrame vuoto con le colonne predefinite\n",
    "df = pd.DataFrame(columns=['event_name','latitude','longitude','strike','dip','rake','magnitude','depth'])\n",
    "\n",
    "# Step 3: Iterare sui file e aggiungere i dati riga per riga\n",
    "for ev_name in os.listdir(dir_reports):\n",
    "    if ev_name.startswith('flegrei'):\n",
    "        dir_ev = os.path.join(dir_reports, ev_name)\n",
    "\n",
    "        # take lat and long from catalogue\n",
    "        cat_name='../../CAT/catalogue_flegrei_mag_2_5.pf'   \n",
    "        cat_pf=model.load_events(cat_name)\n",
    "        for ev in cat_pf:\n",
    "            if ev.name==ev_name:\n",
    "                lat=float(ev.lat)\n",
    "                long=float(ev.lon)\n",
    "\n",
    "        for config_name in os.listdir(dir_ev):\n",
    "            config_name_str='cmt_devi_near_05_2_far_008_03_td_fd_flegrei' #CHANGE CONFIG NAME\n",
    "            if config_name.startswith(config_name_str):       \n",
    "                dir_config= os.path.join(dir_ev,config_name)\n",
    "                event_solution_name=os.path.join(dir_config,'event.solution.best.yaml')     #USING BEST SOLUTIONS\n",
    "                with open(event_solution_name, 'r') as file:\n",
    "                    data = yaml.load(file, Loader=CustomLoader)\n",
    "                depth=float(data.depth)\n",
    "                moment_tensor = data.moment_tensor\n",
    "                strike=float(moment_tensor.strike1)\n",
    "                dip=float(moment_tensor.dip1)\n",
    "                rake=float(moment_tensor.rake1)\n",
    "                magnitude=float(moment_tensor.magnitude)\n",
    "\n",
    "                # Step 4: Creare un dizionario con i valori della riga\n",
    "                row_data = {'longitude':long,'latitude':lat,'strike':strike,\n",
    "                            'dip':dip,'rake':rake,'magnitude':magnitude,\n",
    "                            'depth':depth,'event_name':ev_name,}\n",
    "                # Step 5: Aggiungere la riga al DataFrame\n",
    "                if magnitude >= 1.:     #add only events of magnitude >= 1\n",
    "                    df = pd.concat([df, pd.DataFrame([row_data])], ignore_index=True)\n",
    "\n",
    "# Step 6: Salvare il DataFrame come file CSV\n",
    "df.to_csv('focal_mechanism_'+config_name_str+'.csv', index=False)\n"
   ]
  }
 ],
 "metadata": {
  "kernelspec": {
   "display_name": "Python 3",
   "language": "python",
   "name": "python3"
  },
  "language_info": {
   "codemirror_mode": {
    "name": "ipython",
    "version": 3
   },
   "file_extension": ".py",
   "mimetype": "text/x-python",
   "name": "python",
   "nbconvert_exporter": "python",
   "pygments_lexer": "ipython3",
   "version": "3.11.7"
  }
 },
 "nbformat": 4,
 "nbformat_minor": 2
}
