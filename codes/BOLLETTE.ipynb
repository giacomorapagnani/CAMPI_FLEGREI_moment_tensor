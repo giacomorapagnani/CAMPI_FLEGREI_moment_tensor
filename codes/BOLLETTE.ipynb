{
 "cells": [
  {
   "cell_type": "markdown",
   "metadata": {},
   "source": [
    "# BOLLETTE 10-23 --> 10-24"
   ]
  },
  {
   "cell_type": "markdown",
   "metadata": {},
   "source": [
    "### GAS (PAGATO DA GIACOMO)"
   ]
  },
  {
   "cell_type": "code",
   "execution_count": 17,
   "metadata": {},
   "outputs": [
    {
     "name": "stdout",
     "output_type": "stream",
     "text": [
      "TOTALE SPESA GAS DI GIACOMO:   675.6700000000001          GAS A TESTA:   225.22333333333336\n"
     ]
    }
   ],
   "source": [
    "GAS_ottobre_novembre=85.92\n",
    "GAS_dicembre_febbraio=290.04\n",
    "GAS_febbraio_marzo=73.71\n",
    "GAS_aprile_maggio=94.25\n",
    "GAS_giugno_luglio=72.85\n",
    "\n",
    "\n",
    "GAS_storno=58.90   #agosto ottobre 2024\n",
    "\n",
    "GAS_totale=GAS_ottobre_novembre + GAS_dicembre_febbraio + GAS_febbraio_marzo + GAS_aprile_maggio + GAS_giugno_luglio + GAS_storno\n",
    "GAS_a_testa= GAS_totale/3\n",
    "print('TOTALE SPESA GAS DI GIACOMO:  ',GAS_totale, '         GAS A TESTA:  ',GAS_a_testa )"
   ]
  },
  {
   "cell_type": "markdown",
   "metadata": {},
   "source": [
    "### LUCE (PAGATA DA GIACOMO)"
   ]
  },
  {
   "cell_type": "code",
   "execution_count": 18,
   "metadata": {},
   "outputs": [
    {
     "name": "stdout",
     "output_type": "stream",
     "text": [
      "TOTALE SPESA LUCE DI GIACOMO:   69.24          LUCE A TESTA:   23.08\n"
     ]
    }
   ],
   "source": [
    "LUCE_voltura=0.0      \n",
    "LUCE_storno=69.24      \n",
    "\n",
    "LUCE_totale_GIACOMO= LUCE_voltura + LUCE_storno\n",
    "LUCE_a_testa_GIACOMO= LUCE_totale_GIACOMO/3\n",
    "print('TOTALE SPESA LUCE DI GIACOMO:  ',LUCE_totale_GIACOMO, '         LUCE A TESTA:  ',LUCE_a_testa_GIACOMO )"
   ]
  },
  {
   "cell_type": "markdown",
   "metadata": {},
   "source": [
    "### LUCE (PAGATA DA MICHELE)"
   ]
  },
  {
   "cell_type": "code",
   "execution_count": 19,
   "metadata": {},
   "outputs": [
    {
     "name": "stdout",
     "output_type": "stream",
     "text": [
      "TOTALE SPESA LUCE DI MICHELE:   388.35          LUCE A TESTA:   129.45000000000002\n"
     ]
    }
   ],
   "source": [
    "LUCE_ottobre_novembre=120.40\n",
    "LUCE_dicembre_gennaio=51.14\n",
    "LUCE_febbraio_marzo=40.57\n",
    "LUCE_aprile_maggio=87.19\n",
    "LUCE_giugno_luglio=89.05\n",
    "\n",
    "LUCE_storno=0.0      #!!!DA AGGIUNGERE!!!\n",
    "\n",
    "LUCE_totale_MICHELE= LUCE_ottobre_novembre + LUCE_dicembre_gennaio + LUCE_febbraio_marzo + LUCE_aprile_maggio + LUCE_giugno_luglio + LUCE_storno\n",
    "LUCE_a_testa_MICHELE=LUCE_totale_MICHELE/3\n",
    "print('TOTALE SPESA LUCE DI MICHELE:  ',LUCE_totale_MICHELE, '         LUCE A TESTA:  ',LUCE_a_testa_MICHELE )"
   ]
  },
  {
   "cell_type": "markdown",
   "metadata": {},
   "source": [
    "### ACQUA (PAGATA DA MICHELE)"
   ]
  },
  {
   "cell_type": "code",
   "execution_count": 20,
   "metadata": {},
   "outputs": [
    {
     "name": "stdout",
     "output_type": "stream",
     "text": [
      "TOTALE SPESA ACQUA DI MICHELE:   469.69999999999993          ACQUA A TESTA:   156.56666666666663\n"
     ]
    }
   ],
   "source": [
    "ACQUA_novembre=69.31\n",
    "ACQUA_novembre_febbraio=124.58\n",
    "ACQUA_febbraio_maggio=82.96\n",
    "ACQUA_maggio_agosto=192.85\n",
    "\n",
    "ACQUA_storno=0.0      #!!!DA AGGIUNGERE!!!\n",
    "\n",
    "ACQUA_totale=ACQUA_novembre + ACQUA_novembre_febbraio + ACQUA_febbraio_maggio + ACQUA_maggio_agosto + ACQUA_storno\n",
    "ACQUA_a_testa=ACQUA_totale/3\n",
    "print('TOTALE SPESA ACQUA DI MICHELE:  ',ACQUA_totale, '         ACQUA A TESTA:  ',ACQUA_a_testa )"
   ]
  },
  {
   "cell_type": "markdown",
   "metadata": {},
   "source": [
    "### INTERNET (PAGATO DA PAOLO)"
   ]
  },
  {
   "cell_type": "code",
   "execution_count": 21,
   "metadata": {},
   "outputs": [
    {
     "name": "stdout",
     "output_type": "stream",
     "text": [
      "TOTALE SPESA INTERNET DI PAOLO:   299.88          INTERNET A TESTA:   99.96\n"
     ]
    }
   ],
   "source": [
    "INTERNET_1_mese=24.99\n",
    "MESI_totali=12\n",
    "\n",
    "INTERNET_totale=INTERNET_1_mese * MESI_totali\n",
    "INTERNET_a_testa= INTERNET_totale / 3\n",
    "print('TOTALE SPESA INTERNET DI PAOLO:  ',INTERNET_totale, '         INTERNET A TESTA:  ',INTERNET_a_testa )"
   ]
  },
  {
   "cell_type": "markdown",
   "metadata": {},
   "source": [
    "### TARI (PAGATA DA PAOLO)"
   ]
  },
  {
   "cell_type": "code",
   "execution_count": 22,
   "metadata": {},
   "outputs": [
    {
     "name": "stdout",
     "output_type": "stream",
     "text": [
      "TOTALE SPESA TARI DI PAOLO:   231.35          TARI A TESTA:   77.11666666666666\n"
     ]
    }
   ],
   "source": [
    "TARI_totale=231.35\n",
    "TARI_a_testa=TARI_totale / 3\n",
    "\n",
    "print('TOTALE SPESA TARI DI PAOLO:  ',TARI_totale, '         TARI A TESTA:  ',TARI_a_testa )"
   ]
  },
  {
   "cell_type": "markdown",
   "metadata": {},
   "source": [
    "# CONTI FINALI (se valore POSITIVO siete CREDITORI, se NEGATIVO siete DEBITORI)"
   ]
  },
  {
   "cell_type": "markdown",
   "metadata": {},
   "source": [
    "### Categorie:\n",
    "    GAS_a_testa             (pagata da GIACOMO)\n",
    "    LUCE_a_testa_GIACOMO    (pagata da GIACOMO)\n",
    "    LUCE_a_testa_MICHELE    (pagata da MICHELE)\n",
    "    ACQUA_a_testa           (pagata da MICHELE)\n",
    "    INTERNET_a_testa        (pagata da PAOLO)\n",
    "    TARI_a_testa            (pagata da PAOLO)"
   ]
  },
  {
   "cell_type": "code",
   "execution_count": 23,
   "metadata": {},
   "outputs": [
    {
     "name": "stdout",
     "output_type": "stream",
     "text": [
      "MICHELE ha speso:   858.05   GIACOMO ha speso:  744.9100000000001   PAOLO ha speso:   531.23\n",
      "La MEDIA è di:   711.3966666666666 .\n",
      "MICHELE è a:   146.6533333333333 . GIACOMO è a:   33.513333333333435 . PAOLO è a:   -180.16666666666663\n"
     ]
    }
   ],
   "source": [
    "totale_bollette_MICHELE=LUCE_totale_MICHELE+ACQUA_totale\n",
    "totale_bollette_GIACOMO=GAS_totale+LUCE_totale_GIACOMO\n",
    "totale_bollette_PAOLO=INTERNET_totale+TARI_totale\n",
    "\n",
    "media_bollette=(totale_bollette_MICHELE+totale_bollette_GIACOMO+totale_bollette_PAOLO)/3\n",
    "\n",
    "print('MICHELE ha speso:  ',totale_bollette_MICHELE,'  GIACOMO ha speso: ',totale_bollette_GIACOMO,'  PAOLO ha speso:  ',totale_bollette_PAOLO)\n",
    "print('La MEDIA è di:  ',media_bollette,'.\\nMICHELE è a:  ',totale_bollette_MICHELE-media_bollette,'. GIACOMO è a:  ',totale_bollette_GIACOMO-media_bollette,'. PAOLO è a:  ',totale_bollette_PAOLO-media_bollette)"
   ]
  },
  {
   "cell_type": "code",
   "execution_count": 24,
   "metadata": {},
   "outputs": [
    {
     "name": "stdout",
     "output_type": "stream",
     "text": [
      "il valore Michele_Giacomo è:  37.713333333333296   quindi Michele è CREDITORE a Giacomo!\n",
      "il valore Michele_Paolo è:    108.94000000000001   quindi Michele è CREDITORE a Paolo!\n",
      "il valore Paolo_Giacomo è:   -71.2266666666667   quindi Paolo è DEBITORE a Giacomo!\n"
     ]
    }
   ],
   "source": [
    "Michele_Giacomo = +LUCE_a_testa_MICHELE  +ACQUA_a_testa  -GAS_a_testa       -LUCE_a_testa_GIACOMO\n",
    "Michele_Paolo   = +LUCE_a_testa_MICHELE  +ACQUA_a_testa  -INTERNET_a_testa  -TARI_a_testa\n",
    "Paolo_Giacomo   = +INTERNET_a_testa      +TARI_a_testa   -GAS_a_testa       -LUCE_a_testa_GIACOMO\n",
    "\n",
    "print('il valore Michele_Giacomo è: ', Michele_Giacomo, '  quindi Michele è CREDITORE a Giacomo!') #!!!MODIFICARE FRASE FINALE IN BASE A + O -\n",
    "print('il valore Michele_Paolo è:   ', Michele_Paolo, '  quindi Michele è CREDITORE a Paolo!') #!!!MODIFICARE FRASE FINALE IN BASE A + O -\n",
    "print('il valore Paolo_Giacomo è:  ', Paolo_Giacomo, '  quindi Paolo è DEBITORE a Giacomo!') #!!!MODIFICARE FRASE FINALE IN BASE A + O -"
   ]
  }
 ],
 "metadata": {
  "kernelspec": {
   "display_name": "Python 3",
   "language": "python",
   "name": "python3"
  },
  "language_info": {
   "codemirror_mode": {
    "name": "ipython",
    "version": 3
   },
   "file_extension": ".py",
   "mimetype": "text/x-python",
   "name": "python",
   "nbconvert_exporter": "python",
   "pygments_lexer": "ipython3",
   "version": "3.11.7"
  }
 },
 "nbformat": 4,
 "nbformat_minor": 2
}
