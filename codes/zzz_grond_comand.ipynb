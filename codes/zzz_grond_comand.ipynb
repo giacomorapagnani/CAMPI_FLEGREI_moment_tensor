{
 "cells": [
  {
   "cell_type": "markdown",
   "metadata": {},
   "source": [
    "### LIST OF GROND COMAND + miscellaneous codes"
   ]
  },
  {
   "cell_type": "code",
   "execution_count": 1,
   "metadata": {},
   "outputs": [],
   "source": [
    "from pyrocko import util, model, io, trace, moment_tensor, gmtpy\n",
    "from pyrocko import pz\n",
    "from pyrocko import orthodrome as od\n",
    "from pyrocko.io import quakeml\n",
    "from pyrocko.io import stationxml as fdsn\n",
    "from pyrocko.client import catalog\n",
    "from pyrocko.automap import Map\n",
    "import pyrocko.moment_tensor as pmt\n",
    "from seiscloud import plot as scp\n",
    "from seiscloud import cluster as scc\n",
    "import numpy as num\n",
    "import os, sys, re, math, shutil\n",
    "import matplotlib.pyplot as plt\n",
    "from matplotlib import collections  as mc\n",
    "from matplotlib import dates\n",
    "import datetime\n",
    "import urllib.request\n",
    "from pyrocko.plot.gmtpy import GMT\n",
    "from obspy.clients.fdsn.client import Client\n",
    "from obspy import UTCDateTime\n"
   ]
  },
  {
   "cell_type": "markdown",
   "metadata": {},
   "source": [
    "# GROND CODE"
   ]
  },
  {
   "cell_type": "markdown",
   "metadata": {},
   "source": [
    "### copy folder from local to remote (markers)\n",
    "scp -r  /Users/giaco/UNI/PhD_CODE/WORKS/FLEGREI_moment_tensor_work/GROND_inversion/MARKERS giaco@131.114.9.179:/home/giaco/WORKS/FLEGREI_moment_tensor_work/GROND_inversion/\n",
    "\n",
    "### copy folder from remote to local (reports)\n",
    "scp -r giaco@131.114.9.179:/home/giaco/WORKS/FLEGREI_moment_tensor_work/GROND_inversion/report /Users/giaco/UNI/PhD_CODE/WORKS/FLEGREI_moment_tensor_work/GROND_inversion/\n",
    "\n",
    "### copy folder from remote to local (reports.tar)\n",
    "scp -r giaco@131.114.9.179:/home/giaco/WORKS/FLEGREI_moment_tensor_work/GROND_inversion/report/grond-report.tar.gz /Users/giaco/UNI/PhD_CODE/WORKS/FLEGREI_moment_tensor_work/GROND_inversion/report\n",
    "\n",
    "### connect to remote pc\n",
    "ssh -Y giaco@131.114.9.179\n",
    "\n",
    "### run inversion on remote with nohup\n",
    "nohup grond go CONFIG/flegrei.devi.v6.gronf flegrei_2023_11_23_18_41_46 flegrei_2023_10_16_10_36_21 --parallel=2 --force\n",
    "\n",
    "### create report on reemote with nohup\n",
    "nohup grond report runs/cmt_devi_vrs6_flegrei_2023_11_23_18_41_46.grun runs/cmt_devi_vrs6_flegrei_2023_10_16_10_36_21.grun --parallel=2\n",
    "\n",
    "### general Grond comands\n",
    "nohup grond go CONFIG/flegrei.devi.v.far.only.eq.gronf all --parallel=18 --force\n",
    "\n",
    "nohup grond go CONFIG/flegrei.devi.v.big.eq.gronf all --parallel=18 --force\n",
    "nohup grond go CONFIG/flegrei.devi.v.big.eq.far.gronf all --parallel=18 --force\n",
    "\n",
    "nohup grond go CONFIG/flegrei.devi.v.small.eq.gronf all --parallel=18 --force\n",
    "nohup grond go CONFIG/flegrei.devi.v.small.eq.far.gronf all --parallel=18 --force\n",
    "\n",
    "nohup grond go CONFIG/flegrei.devi.v.mid.eq.gronf all --parallel=18 --force\n",
    "nohup grond go CONFIG/flegrei.devi.v.far.only.eq.gronf all --parallel=18 --force\n",
    "\n",
    "nohup grond report runs/cmt_devi_vrs_far_only_eq_fl* --parallel=18\n",
    "\n",
    "nohup grond report runs/cmt_devi_vrs_big_eq_fl* --parallel=18\n",
    "nohup grond report runs/cmt_devi_vrs_big_eq_far_* --parallel=18\n",
    "\n",
    "nohup grond report runs/cmt_devi_vrs_small_eq_fl* --parallel=18\n",
    "nohup grond report runs/cmt_devi_vrs_small_eq_far_* --parallel=18\n",
    "\n",
    "nohup grond report runs/cmt_devi_vrs_mid_eq_fl* --parallel=18\n",
    "\n",
    "### URG grond comands\n",
    "grond check CONFIG/flegrei.devi.v.big.eq.URG.gronf flegrei_2024_05_20_18_10_03\n",
    "\n",
    "nohup grond go CONFIG/flegrei.devi.v.big.eq.URG.gronf flegrei_2024_05_20_18_10_03 --parallel=1 --force\n",
    "nohup grond go CONFIG/flegrei.devi.v.mid.eq.URG.gronf flegrei_2024_05_20_18_10_03 --parallel=1 --force\n",
    "nohup grond go CONFIG/flegrei.devi.v.small.eq.URG.gronf flegrei_2024_05_20_18_10_03 --parallel=1 --force\n",
    "nohup grond go CONFIG/flegrei.devi.v.far.only.eq.URG.gronf flegrei_2024_05_20_18_10_03 --parallel=1 --force\n",
    "\n",
    "nohup grond go CONFIG/flegrei.devi.v.far.only.eq.gronf flegrei_2023_10_02_20_08_26 flegrei_2023_09_27_01_35_34 --parallel=2 --force\n",
    "\n",
    "nohup grond report runs/cmt_devi_vrs_big_eq_URG_flegrei_2024_05_20_18_10_03.grun --parallel=1\n",
    "nohup grond report runs/cmt_devi_vrs_mid_eq_URG_flegrei_2024_05_20_18_10_03.grun --parallel=1\n",
    "nohup grond report runs/cmt_devi_vrs_small_eq_URG_flegrei_2024_05_20_18_10_03.grun --parallel=1\n",
    "nohup grond report runs/cmt_devi_vrs_far_only_eq_flegrei_2024_05_20_18_10_03.grun --parallel=1\n",
    "\n",
    "nohup grond report runs/cmt_devi_vrs_far_only_eq_flegrei_2023_10_02_20_08_26.grun runs/cmt_devi_vrs_far_only_eq_flegrei_2023_09_27_01_35_34.grun --parallel=2\n",
    "\n",
    "### copy reports from remote to local\n",
    "scp -r giaco@131.114.9.179:/home/giaco/WORKS/FLEGREI_moment_tensor_work/GROND_inversion/report/flegrei_2024_04_27_03_44_56 /Users/giaco/UNI/PhD_CODE/WORKS/FLEGREI_moment_tensor_work/GROND_inversion/\n",
    "scp -r giaco@131.114.9.179:/home/giaco/WORKS/FLEGREI_moment_tensor_work/GROND_inversion/report/flegrei_2024_05_07_01_47_54 /Users/giaco/UNI/PhD_CODE/WORKS/FLEGREI_moment_tensor_work/GROND_inversion/\n",
    "\n",
    "###\n",
    "\n",
    "grond report -so\n",
    "\n",
    "grond plot -h\n",
    "(new default config file) (file type svg of pdf)\n",
    "grond plot new_config dir_event_figure\n",
    "\n",
    "### terminal command\n",
    "ls -1 | wc -l   #number of element in directory\n",
    "ls -l       # data of file creation\n",
    "du -sh *    # size  of directory\n",
    "rm -rf      # remove recursively directory\n",
    "kill -9 'pid'"
   ]
  },
  {
   "cell_type": "markdown",
   "metadata": {},
   "source": [
    "cmt_devi_vrs1_flegrei\n",
    "cmt_devi_vrs2_flegrei\n",
    "cmt_devi_vrs3_flegrei\n",
    "cmt_devi_vrs4_flegrei\n",
    "cmt_devi_vrs5_flegrei\n",
    "cmt_devi_vrs6_flegrei\n",
    "cmt_full_vrs6_flegrei\n",
    "cmt_full_vrs4_flegrei\n",
    "cmt_full_vrs5_flegrei\n",
    "cmt_devi_vrs_small_eq_far_flegrei\n",
    "cmt_devi_vrs_far_only_eq_flegrei\n",
    "cmt_devi_vrs_big_eq_URG  \n",
    "cmt_devi_vrs_small_eq_URG\n",
    "cmt_devi_vrs_mid_eq_URG"
   ]
  },
  {
   "cell_type": "markdown",
   "metadata": {},
   "source": [
    "# FOMOSTO COMMANDS"
   ]
  },
  {
   "cell_type": "code",
   "execution_count": null,
   "metadata": {},
   "outputs": [],
   "source": [
    "# fomosto ttt --force\n",
    "# nohup fomosto build --force --nworkers=?"
   ]
  },
  {
   "cell_type": "markdown",
   "metadata": {},
   "source": [
    "### -----------------------------------------------------------------------------"
   ]
  },
  {
   "cell_type": "markdown",
   "metadata": {},
   "source": [
    "### Green function download"
   ]
  },
  {
   "cell_type": "code",
   "execution_count": 18,
   "metadata": {},
   "outputs": [
    {
     "name": "stdout",
     "output_type": "stream",
     "text": [
      "type, name:              M1, extended crust, 3 km seds.\n",
      "elevation:                           236\n",
      "crustal thickness:                 30000\n",
      "average vp, vs, rho:              6162.1          3471.7            2800\n",
      "mantle ave. vp, vs, rho:            8000            4600            3300\n",
      "\n",
      "              0            3810            1940             920   ice\n",
      "              0            1500               0            1020   water\n",
      "           1000            2500            1200            2100   soft sed.\n",
      "           2000            4400            2500            2500   hard sed.\n",
      "           8000            6100            3500            2750   upper crust\n",
      "          10000            6300            3600            2800   middle crust\n",
      "          10000            6600            3600            2900   lower crust\n"
     ]
    }
   ],
   "source": [
    "import pyrocko.crust2x2\n",
    "lat=40.8478\n",
    "long=14.0918\n",
    "profile = pyrocko.crust2x2.get_profile(lat=lat, lon=long)\n",
    "print(profile)"
   ]
  },
  {
   "cell_type": "code",
   "execution_count": 20,
   "metadata": {},
   "outputs": [],
   "source": [
    "#DOWNLOAD GF FROM FOMOSTO\n",
    "#fomosto download kinherd crust2_2hz_m1"
   ]
  },
  {
   "cell_type": "markdown",
   "metadata": {},
   "source": [
    "### ADD station Ventotene 'VENT'"
   ]
  },
  {
   "cell_type": "code",
   "execution_count": 10,
   "metadata": {},
   "outputs": [],
   "source": [
    "'''\n",
    "client=Client('INGV')\n",
    "stime=UTCDateTime('2014-01-01T00:00:00')\n",
    "etime=UTCDateTime('2024-01-01T00:00:00')        #CHANGE\n",
    "\n",
    "inv1=client.get_stations(starttime=stime,endtime=etime,\n",
    "                        network=\"IV\", sta=\"VENT\",\n",
    "                        level='response')                                   #instrumental response\n",
    "inv1.write('../META_DATA/inventory_VENT.xml',format='STATIONXML')                        #save\n",
    "\n",
    "inv_all.extend(inv1)\n",
    "inv_all.write('../META_DATA/inventory_all.xml',format='STATIONXML')                        #save\n",
    "'''"
   ]
  }
 ],
 "metadata": {
  "kernelspec": {
   "display_name": "Python 3",
   "language": "python",
   "name": "python3"
  },
  "language_info": {
   "codemirror_mode": {
    "name": "ipython",
    "version": 3
   },
   "file_extension": ".py",
   "mimetype": "text/x-python",
   "name": "python",
   "nbconvert_exporter": "python",
   "pygments_lexer": "ipython3",
   "version": "3.11.7"
  }
 },
 "nbformat": 4,
 "nbformat_minor": 2
}
