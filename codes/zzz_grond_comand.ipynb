{
 "cells": [
  {
   "cell_type": "markdown",
   "metadata": {},
   "source": [
    "# LIST Usefull commands + miscellaneous codes"
   ]
  },
  {
   "cell_type": "markdown",
   "metadata": {},
   "source": [
    "# alias for 'python3 command'\n",
    "# (puts python3.11 version in the place of python3)\n",
    "echo 'alias python3=\"/opt/homebrew/bin/python3.11\"' >> ~/.zshrc\n",
    "\n",
    "# Alternative:\n",
    "# Remove current python3 link if it exists\n",
    "brew unlink python@3.13\n",
    "\n",
    "# Create symlink to python3.11 (target version)\n",
    "ln -sf $(which python3.11) /opt/homebrew/bin/python3"
   ]
  },
  {
   "cell_type": "markdown",
   "metadata": {},
   "source": [
    "### MINICONDA comands"
   ]
  },
  {
   "cell_type": "markdown",
   "metadata": {},
   "source": [
    "# activate miconda in current shell\n",
    "eval \"$(/Users/giaco/miniconda3/bin/conda shell.zsh hook)\"\n",
    "\n",
    "# close and re-open shell\n",
    "exec zsh -l\n",
    "\n",
    "# activate env\n",
    "conda activate grond_composite\n",
    "\n",
    "# deactivate env\n",
    "conda deactivate"
   ]
  },
  {
   "cell_type": "markdown",
   "metadata": {},
   "source": [
    "### Pyrocko and GROND CODE"
   ]
  },
  {
   "cell_type": "markdown",
   "metadata": {},
   "source": [
    "# install grond branch\n",
    "git clone <link>\n",
    "cd \n",
    "\n",
    "# Versions combinations:\n",
    "    # pyrocko & grond\n",
    "    # pyrocko-multi-triangle-stf & grond_composite\n",
    "\n",
    "# install grond (inside grond dir)\n",
    "    sudo pip install --no-deps .\n",
    "    \n",
    "# install pyrocko (inside pyrocko dir)\n",
    "    python3.11 install.py user  "
   ]
  },
  {
   "cell_type": "markdown",
   "metadata": {},
   "source": [
    "### Grond GO all\n",
    "nohup grond go CONFIG/flegrei.devi... all --parallel=18 --force\n",
    "\n",
    "### Grond REPORT all\n",
    "nohup grond report runs/cmt_devi_...* --parallel=18\n",
    "\n",
    "### visualize reports\n",
    "grond report -so\n",
    "\n",
    "(???)\n",
    "grond plot -h\n",
    "(new default config file) (file type svg of pdf)\n",
    "grond plot new_config dir_event_figure\n",
    "\n",
    "### create PDF figure in report\n",
    "grond plot plot.config.td <runs/cmt_>  "
   ]
  },
  {
   "cell_type": "markdown",
   "metadata": {},
   "source": [
    "# jacksies\n",
    "cut traces and devide them by stations\n",
    "jackseis <input folder> --output='%(station)s/%(network)s.%(station)s.%(channel)s.%(wmin)s.mseed' <outputfolder>"
   ]
  },
  {
   "cell_type": "markdown",
   "metadata": {},
   "source": [
    "### Terminal codes"
   ]
  },
  {
   "cell_type": "markdown",
   "metadata": {},
   "source": [
    "### terminal command\n",
    "ls -1 | wc -l   #number of element in directory\n",
    "ls -l       # date of file creation\n",
    "du -sh *    # size  of directory\n",
    "rm -rf      # remove recursively directory\n",
    "kill -9 'pid' # kill process\n",
    "cp -r # copy recursively\n",
    "\n",
    "echo 'text' > <filename> #create filename with text inside\n",
    "chmod 777 <filename> # make file executable\n",
    "./<filename> #run file"
   ]
  },
  {
   "cell_type": "markdown",
   "metadata": {},
   "source": [
    "### connect to remote pc\n",
    "ssh -Y giaco@131.114.9.179\n",
    "\n",
    "### copy folder from local to remote (markers)\n",
    "scp -r  /Users/giaco/UNI/PhD_CODE/GIT/CAMPI_FLEGREI_moment_tensor/MARKERS giacomo@glic:/home/giacomo/GIT/CAMPI_FLEGREI_moment_tensor\n",
    "\n",
    "### copy folder from remote to local (reports.tar)\n",
    "scp -r giacomo@glic:/home/giacomo/GIT/CAMPI_FLEGREI_moment_tensor/report/grond-report.tar.gz /Users/giaco/UNI/PhD_CODE/GIT/"
   ]
  },
  {
   "cell_type": "markdown",
   "metadata": {},
   "source": [
    "### GLIC server GFZ"
   ]
  },
  {
   "cell_type": "markdown",
   "metadata": {},
   "source": [
    "### GLIC commands\n",
    "ssh giacomo@glic\n",
    "pass: C204qwr!12a\n",
    "\n",
    "# create new screen\n",
    "screen -S <name>\n",
    "    # close screen but process runs in background\n",
    "    'control' 'A' + 'D'\n",
    "\n",
    "# check curent screens\n",
    "screen -r\n",
    "\n",
    "# enter existing screen and terminate\n",
    "screen -r <number>\n",
    "    exit\n",
    "\n",
    "# kill screen\n",
    "screen -X -S <n> quit\n",
    "\n",
    "srun -u --nodes=1  --ntasks=1 --mem=128G --cpus-per-task=N --time=2880 <COMMAND>\n",
    "\n",
    "    --pty\n",
    "\n",
    "grond report runs/cmt_devi_* --parallel=20\n"
   ]
  },
  {
   "cell_type": "markdown",
   "metadata": {},
   "source": [
    "# DESKTOP PC GFZ\n",
    "user:giacomo\n",
    "password:giacomo\n",
    "ip:139.17.72.86\n",
    "\n",
    "ssh -Y giacomo@139.17.72.86\n",
    "\n",
    "scp -r  /Users/giaco/UNI/PhD_CODE/GIT/CAMPI_FLEGREI_moment_tensor/DATA giacomo@139.17.72.86:/home/giacomo/GIT/CAMPI_FLEGREI_moment_tensor\n",
    "\n",
    "scp -r giacomo@139.17.72.86:/home/giacomo/GIT/CAMPI_FLEGREI_moment_tensor/report/grond-report.tar.gz /Users/giaco/UNI/PhD_CODE/GIT/CAMPI_FLEGREI_moment_tensor/report\n",
    "\n",
    "# print\n",
    "scp -r  /Users/giaco/Desktop/print giacomo@139.17.72.86:/home/giacomo/Desktop/\n"
   ]
  },
  {
   "cell_type": "markdown",
   "metadata": {},
   "source": [
    "### -----------------------------------------------------------------------------"
   ]
  }
 ],
 "metadata": {
  "kernelspec": {
   "display_name": "xdas",
   "language": "python",
   "name": "python3"
  },
  "language_info": {
   "codemirror_mode": {
    "name": "ipython",
    "version": 3
   },
   "file_extension": ".py",
   "mimetype": "text/x-python",
   "name": "python",
   "nbconvert_exporter": "python",
   "pygments_lexer": "ipython3",
   "version": "3.13.5"
  }
 },
 "nbformat": 4,
 "nbformat_minor": 2
}
