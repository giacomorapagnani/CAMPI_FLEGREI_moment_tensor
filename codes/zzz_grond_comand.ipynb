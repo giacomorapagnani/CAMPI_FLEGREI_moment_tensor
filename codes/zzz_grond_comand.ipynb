{
 "cells": [
  {
   "cell_type": "markdown",
   "metadata": {},
   "source": [
    "### LIST OF GROND COMAND + miscellaneous codes"
   ]
  },
  {
   "cell_type": "markdown",
   "metadata": {},
   "source": [
    "# GROND CODE"
   ]
  },
  {
   "cell_type": "markdown",
   "metadata": {},
   "source": [
    "### terminal command\n",
    "ls -1 | wc -l   #number of element in directory\n",
    "ls -l       # date of file creation\n",
    "du -sh *    # size  of directory\n",
    "rm -rf      # remove recursively directory\n",
    "kill -9 'pid' # kill process\n",
    "cp -r # copy recursively\n",
    "\n",
    "echo 'text' > <filename> #create filename with text inside\n",
    "chmod 777 <filename> # make file executable\n",
    "./<filename> #run file"
   ]
  },
  {
   "cell_type": "markdown",
   "metadata": {},
   "source": [
    "# CONDA\n",
    "source ~/miniconda3/bin/activate\n",
    "conda activate pyrocko\n",
    "conda deactivate"
   ]
  },
  {
   "cell_type": "markdown",
   "metadata": {},
   "source": [
    "### Davide's Cineca server\n",
    "ssh d.pecci@131.114.142.4\n",
    "Ezechiele2717!\n",
    "/data/d.pecci"
   ]
  },
  {
   "cell_type": "markdown",
   "metadata": {},
   "source": [
    "### connect to remote pc\n",
    "ssh -Y giaco@131.114.9.179\n",
    "\n",
    "### copy folder from local to remote (markers)\n",
    "scp -r  /Users/giaco/UNI/PhD_CODE/GIT/CAMPI_FLEGREI_moment_tensor/MARKERS giacomo@glic:/home/giacomo/GIT/CAMPI_FLEGREI_moment_tensor\n",
    "\n",
    "### copy folder from remote to local (reports.tar)\n",
    "scp -r giacomo@glic:/home/giacomo/GIT/CAMPI_FLEGREI_moment_tensor/report/grond-report.tar.gz /Users/giaco/UNI/PhD_CODE/GIT/CAMPI_FLEGREI_moment_tensor/report"
   ]
  },
  {
   "cell_type": "markdown",
   "metadata": {},
   "source": [
    "### Grond GO all\n",
    "nohup grond go CONFIG/flegrei.devi... all --parallel=18 --force\n",
    "\n",
    "### Grond REPORT all\n",
    "nohup grond report runs/cmt_devi_...* --parallel=18\n",
    "\n",
    "### visualize reports\n",
    "grond report -so\n",
    "\n",
    "(???)\n",
    "grond plot -h\n",
    "(new default config file) (file type svg of pdf)\n",
    "grond plot new_config dir_event_figure"
   ]
  },
  {
   "cell_type": "markdown",
   "metadata": {},
   "source": [
    "### GLIC commands\n",
    "ssh giacomo@glic\n",
    "\n",
    "# create new screen\n",
    "screen -S <name>\n",
    "    # close screen but process runs in background\n",
    "    'control' 'A' + 'D'\n",
    "\n",
    "# check curent screens\n",
    "screen -r\n",
    "\n",
    "# enter existing screen and terminate\n",
    "screen -r <number>\n",
    "    exit\n",
    "\n",
    "# kill screen\n",
    "screen -X -S <n> quit\n",
    "\n",
    "srun -u --nodes=1  --ntasks=1 --mem=128G --cpus-per-task=N --time=2880 <COMMAND>\n",
    "\n",
    "    --pty\n",
    "\n",
    "grond report runs/cmt_devi_* --parallel=20\n"
   ]
  },
  {
   "cell_type": "markdown",
   "metadata": {},
   "source": [
    "# pyrocko and squirrel and snuffling code\n",
    "od.geographic_midpoint(s.lat for s in station,s.lon for s in station)\n",
    "node=model.Location(lat,lon,nord)\n",
    "distance= node.distance_to(station)\n",
    "tr.shift(-tshift)\n",
    "tr=trace.Trace('', 'SUM_%i_%i' % (var1,var2) )\n",
    "tr.add(tr2)\n",
    "cque_z[0].get_ydata().astype(float)\n",
    "cque_z[0].set_ydata()\n",
    "cque_z[0].copy()"
   ]
  },
  {
   "cell_type": "markdown",
   "metadata": {},
   "source": [
    "# DESKTOP PC GFZ\n",
    "user:giacomo\n",
    "password:giacomo\n",
    "ip:139.17.72.86\n",
    "\n",
    "ssh -Y giacomo@139.17.72.86\n",
    "\n",
    "scp -r  /Users/giaco/UNI/PhD_CODE/GIT/CAMPI_FLEGREI_moment_tensor/DATA giacomo@139.17.72.86:/home/giacomo/GIT/CAMPI_FLEGREI_moment_tensor\n",
    "\n",
    "scp -r giacomo@139.17.72.86:/home/giacomo/GIT/CAMPI_FLEGREI_moment_tensor/report/grond-report.tar.gz /Users/giaco/UNI/PhD_CODE/GIT/CAMPI_FLEGREI_moment_tensor/report"
   ]
  },
  {
   "cell_type": "markdown",
   "metadata": {},
   "source": [
    "### delete old reports \n",
    "cmt_devi_vrs1_flegrei\n",
    "cmt_devi_vrs2_flegrei\n",
    "cmt_devi_vrs3_flegrei\n",
    "cmt_devi_vrs4_flegrei\n",
    "cmt_devi_vrs5_flegrei\n",
    "cmt_devi_vrs6_flegrei\n",
    "cmt_full_vrs6_flegrei\n",
    "cmt_full_vrs4_flegrei\n",
    "cmt_full_vrs5_flegrei\n",
    "cmt_devi_vrs_small_eq_far_flegrei\n",
    "cmt_devi_vrs_far_only_eq_flegrei\n",
    "cmt_devi_vrs_big_eq_URG  \n",
    "cmt_devi_vrs_small_eq_URG\n",
    "cmt_devi_vrs_mid_eq_URG"
   ]
  },
  {
   "cell_type": "markdown",
   "metadata": {},
   "source": [
    "# FOMOSTO COMMANDS"
   ]
  },
  {
   "cell_type": "code",
   "execution_count": null,
   "metadata": {},
   "outputs": [],
   "source": [
    "# fomosto ttt --force\n",
    "# nohup fomosto build --force --nworkers=?"
   ]
  },
  {
   "cell_type": "markdown",
   "metadata": {},
   "source": [
    "### -----------------------------------------------------------------------------"
   ]
  },
  {
   "cell_type": "markdown",
   "metadata": {},
   "source": [
    "### Green function download"
   ]
  },
  {
   "cell_type": "code",
   "execution_count": 18,
   "metadata": {},
   "outputs": [
    {
     "name": "stdout",
     "output_type": "stream",
     "text": [
      "type, name:              M1, extended crust, 3 km seds.\n",
      "elevation:                           236\n",
      "crustal thickness:                 30000\n",
      "average vp, vs, rho:              6162.1          3471.7            2800\n",
      "mantle ave. vp, vs, rho:            8000            4600            3300\n",
      "\n",
      "              0            3810            1940             920   ice\n",
      "              0            1500               0            1020   water\n",
      "           1000            2500            1200            2100   soft sed.\n",
      "           2000            4400            2500            2500   hard sed.\n",
      "           8000            6100            3500            2750   upper crust\n",
      "          10000            6300            3600            2800   middle crust\n",
      "          10000            6600            3600            2900   lower crust\n"
     ]
    }
   ],
   "source": [
    "import pyrocko.crust2x2\n",
    "lat=40.8478\n",
    "long=14.0918\n",
    "profile = pyrocko.crust2x2.get_profile(lat=lat, lon=long)\n",
    "print(profile)"
   ]
  },
  {
   "cell_type": "code",
   "execution_count": 20,
   "metadata": {},
   "outputs": [],
   "source": [
    "#DOWNLOAD GF FROM FOMOSTO\n",
    "#fomosto download kinherd crust2_2hz_m1"
   ]
  },
  {
   "cell_type": "markdown",
   "metadata": {},
   "source": [
    "### ADD station Ventotene 'VENT'"
   ]
  },
  {
   "cell_type": "code",
   "execution_count": 10,
   "metadata": {},
   "outputs": [],
   "source": [
    "'''\n",
    "client=Client('INGV')\n",
    "stime=UTCDateTime('2014-01-01T00:00:00')\n",
    "etime=UTCDateTime('2024-01-01T00:00:00')        #CHANGE\n",
    "\n",
    "inv1=client.get_stations(starttime=stime,endtime=etime,\n",
    "                        network=\"IV\", sta=\"VENT\",\n",
    "                        level='response')                                   #instrumental response\n",
    "inv1.write('../META_DATA/inventory_VENT.xml',format='STATIONXML')                        #save\n",
    "\n",
    "inv_all.extend(inv1)\n",
    "inv_all.write('../META_DATA/inventory_all.xml',format='STATIONXML')                        #save\n",
    "'''"
   ]
  }
 ],
 "metadata": {
  "kernelspec": {
   "display_name": "Python 3",
   "language": "python",
   "name": "python3"
  },
  "language_info": {
   "codemirror_mode": {
    "name": "ipython",
    "version": 3
   },
   "file_extension": ".py",
   "mimetype": "text/x-python",
   "name": "python",
   "nbconvert_exporter": "python",
   "pygments_lexer": "ipython3",
   "version": "3.11.7"
  }
 },
 "nbformat": 4,
 "nbformat_minor": 2
}
