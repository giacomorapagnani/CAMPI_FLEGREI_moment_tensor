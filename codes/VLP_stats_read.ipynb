{
 "cells": [
  {
   "cell_type": "code",
   "execution_count": null,
   "metadata": {},
   "outputs": [],
   "source": [
    "from pyrocko import util, model, io, trace, moment_tensor, gmtpy,orthodrome\n",
    "from pyrocko import orthodrome as od\n",
    "from pyrocko.client import catalog\n",
    "from pyrocko.automap import Map\n",
    "import pyrocko.moment_tensor as pmt\n",
    "from pyrocko.plot import mpl_color\n",
    "from pyrocko.guts import load\n",
    "# from seiscloud import plot as scp\n",
    "# from seiscloud import cluster as scc\n",
    "import numpy as np\n",
    "import os\n",
    "# import shutil\n",
    "import matplotlib.pyplot as plt\n",
    "import pygmt"
   ]
  }
 ],
 "metadata": {
  "language_info": {
   "name": "python"
  }
 },
 "nbformat": 4,
 "nbformat_minor": 2
}
