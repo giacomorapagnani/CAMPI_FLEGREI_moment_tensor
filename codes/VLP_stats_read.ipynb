{
 "cells": [
  {
   "cell_type": "code",
   "execution_count": 2,
   "metadata": {},
   "outputs": [],
   "source": [
    "from pyrocko import util, model, io, trace, moment_tensor, gmtpy,orthodrome\n",
    "from pyrocko import orthodrome as od\n",
    "from pyrocko.client import catalog\n",
    "from pyrocko.automap import Map\n",
    "import pyrocko.moment_tensor as pmt\n",
    "from pyrocko.plot import mpl_color\n",
    "from pyrocko.guts import load\n",
    "# from seiscloud import plot as scp\n",
    "# from seiscloud import cluster as scc\n",
    "import numpy as np\n",
    "import os\n",
    "# import shutil\n",
    "import matplotlib.pyplot as plt\n",
    "import pygmt\n",
    "import grond"
   ]
  },
  {
   "cell_type": "code",
   "execution_count": 3,
   "metadata": {},
   "outputs": [
    {
     "name": "stdout",
     "output_type": "stream",
     "text": [
      "All events in catalogue: 10\n",
      "Good events in catalogue: 10\n",
      "\n",
      "VLP frequency: 0.1143 +- 0.0017\n",
      "VLP duration: 26.93 +- 4.404\n"
     ]
    }
   ],
   "source": [
    "workdir='../'\n",
    "reportdir=os.path.join(workdir,'report')                                #main report dir\n",
    "\n",
    "catdir=os.path.join(workdir,'CAT')\n",
    "catname=os.path.join(catdir,'catalogue_flegrei_VLP_gilberto.pf')\n",
    "refevents=model.load_events(catname)\n",
    "\n",
    "mttargets = [ev for ev in refevents]\n",
    "badmtsols = ['']\n",
    "print('All events in catalogue:', len(mttargets))\n",
    "goodmttargets = [ev for ev in mttargets if ev.name not in badmtsols]\n",
    "print('Good events in catalogue:', len(goodmttargets))\n",
    "grondevs = []\n",
    "\n",
    "freq=[]\n",
    "duration=[]\n",
    "lat=[]\n",
    "lon=[]\n",
    "for vrs in ['cmt_LP_oscill_']:\n",
    "    for ev in goodmttargets:\n",
    "        targetdir = os.path.join(reportdir, ev.name, vrs + ev.name)\n",
    "        #if not os.path.isdir(targetdir):\n",
    "            #print('missing report dir \"', vrs, '\" for event:',ev.name)\n",
    "        if os.path.isdir(targetdir):\n",
    "            fname = os.path.join(targetdir, 'stats.yaml')     # take BEST results\n",
    "            VLP_stats=load(filename=fname)\n",
    "\n",
    "            for stat in VLP_stats.parameter_stats_list:\n",
    "                if stat.name=='duration':\n",
    "                    duration.append(stat.best)\n",
    "                if stat.name=='frequency':\n",
    "                    freq.append(stat.best)\n",
    "\n",
    "mean_f=np.mean(freq)\n",
    "std_f=np.std(freq)\n",
    "print(f'\\nVLP frequency: {mean_f:1.4} +- {std_f:1.2}')\n",
    "\n",
    "mean_d=np.mean(duration)\n",
    "std_d=np.std(duration)\n",
    "print(f'VLP duration: {mean_d:2.4} +- {std_d:2.4}')"
   ]
  }
 ],
 "metadata": {
  "kernelspec": {
   "display_name": "Python 3",
   "language": "python",
   "name": "python3"
  },
  "language_info": {
   "codemirror_mode": {
    "name": "ipython",
    "version": 3
   },
   "file_extension": ".py",
   "mimetype": "text/x-python",
   "name": "python",
   "nbconvert_exporter": "python",
   "pygments_lexer": "ipython3",
   "version": "3.11.11"
  }
 },
 "nbformat": 4,
 "nbformat_minor": 2
}
