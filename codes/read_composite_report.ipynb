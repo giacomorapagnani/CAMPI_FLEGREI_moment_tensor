{
 "cells": [
  {
   "cell_type": "code",
   "execution_count": 11,
   "metadata": {},
   "outputs": [],
   "source": [
    "from pyrocko import util, model, io, trace, moment_tensor, gmtpy,orthodrome\n",
    "from pyrocko import orthodrome as od\n",
    "from pyrocko.client import catalog\n",
    "from pyrocko.automap import Map\n",
    "import pyrocko.moment_tensor as pmt\n",
    "from pyrocko.plot import mpl_color\n",
    "from pyrocko.guts import load\n",
    "# from seiscloud import plot as scp\n",
    "# from seiscloud import cluster as scc\n",
    "import numpy as np\n",
    "import os\n",
    "# import shutil\n",
    "import matplotlib.pyplot as plt\n",
    "import pygmt\n",
    "import grond"
   ]
  },
  {
   "cell_type": "code",
   "execution_count": 12,
   "metadata": {},
   "outputs": [
    {
     "name": "stdout",
     "output_type": "stream",
     "text": [
      "Catalogue: ../CAT/catalogue_flegrei_VLP.pf\n",
      "All events in catalogue: 14\n",
      "Good events in catalogue: 14\n",
      "\n",
      "Inversions selected: ['cmt_composite_VT_VLP_']\n",
      "Sources extracted: ['vt', 'vlp']\n"
     ]
    }
   ],
   "source": [
    "workdir='../'\n",
    "reportdir=os.path.join(workdir,'report')                                \n",
    "\n",
    "catdir=os.path.join(workdir,'CAT')\n",
    "catname=os.path.join(catdir,'catalogue_flegrei_VLP.pf')                 # CHANGE\n",
    "refevents=model.load_events(catname)\n",
    "mttargets = [ev for ev in refevents]\n",
    "\n",
    "badmtsols = ['']    # exclude some events\n",
    "print(f'Catalogue: {catname}')\n",
    "print('All events in catalogue:', len(mttargets))\n",
    "goodmttargets = [ev for ev in mttargets if ev.name not in badmtsols]\n",
    "print('Good events in catalogue:', len(goodmttargets))\n",
    "\n",
    "# Insert inversions names\n",
    "inversions= ['cmt_composite_VT_VLP_']                                    # CHANGE\n",
    "\n",
    "# Insert source prefixes \n",
    "source_prefixes = ['vt','vlp']                                             # CHANGE\n",
    "par_names = ['time','north_shift','east_shift',\n",
    "              'depth','magnitude',\n",
    "              'rmnn','rmee','rmdd','rmne','rmnd','rmed',\n",
    "              'duration','frequency',\n",
    "              'strike1','dip1','rake1']\n",
    "\n",
    "print(f'\\nInversions selected: {inversions}')\n",
    "print(f'Sources extracted: {source_prefixes}')\n",
    "\n",
    "# new catalogue name\n",
    "new_catalogue_name = 'catalogue_flegrei_MT_composite'"
   ]
  },
  {
   "cell_type": "code",
   "execution_count": 13,
   "metadata": {},
   "outputs": [],
   "source": [
    "#events_names = []\n",
    "events = {source_name: [] for source_name in source_prefixes}\n",
    "\n",
    "\n",
    "for inv in inversions:\n",
    "    for ev in goodmttargets:\n",
    "        targetdir = os.path.join(reportdir, ev.name, inv + ev.name)\n",
    "        if os.path.isdir(targetdir):\n",
    "            fname = os.path.join(targetdir, 'stats.yaml')     \n",
    "            stats=load(filename=fname)\n",
    "\n",
    "            # store event name\n",
    "            tmp_name=stats.problem.name[len(inv):]\n",
    "            #events_names.append(tmp_name)\n",
    "\n",
    "            # create new dict for selected event\n",
    "            parameter = {source_name: [] for source_name in source_prefixes}\n",
    "            for source_name in parameter:\n",
    "                parameter[source_name] = {par_name: [] for par_name in par_names}\n",
    "\n",
    "            # add perameters to dict\n",
    "            for stat in stats.parameter_stats_list: \n",
    "                stat_prefix,stat_name = stat.name.split('.')\n",
    "                if stat_prefix in parameter:\n",
    "                    if stat_name in parameter[stat_prefix]:\n",
    "                        parameter[stat_prefix][stat_name]= stat.best # take BEST results\n",
    "                else:\n",
    "                    print(f'Warning: parameter prefix not found:')\n",
    "                    print(f'current prefix {stat_prefix} =/= selected prefixes {source_prefixes}')\n",
    "\n",
    "            # create events objects for sub-problems\n",
    "            for source_name in parameter:\n",
    "                m0=pmt.magnitude_to_moment(parameter[source_name]['magnitude'])\n",
    "                tmp_mt = pmt.MomentTensor(mnn=parameter[source_name]['rmnn'] * m0,\n",
    "                                        mee=parameter[source_name]['rmee'] * m0,\n",
    "                                        mdd=parameter[source_name]['rmdd'] * m0,\n",
    "                                        mne=parameter[source_name]['rmne'] * m0,\n",
    "                                        mnd=parameter[source_name]['rmnd'] * m0,\n",
    "                                        med=parameter[source_name]['rmed'] * m0,\n",
    "                                        moment=m0)\n",
    "\n",
    "                if source_name == 'vlp':    # re-locate\n",
    "                    nlat, nlon = od.ne_to_latlon(ev.lat, ev.lon,\n",
    "                                    np.array([parameter[source_name]['north_shift']]),\n",
    "                                    np.array([parameter[source_name]['east_shift']]))\n",
    "                    lat, lon = nlat[0], nlon[0]\n",
    "                else:\n",
    "                    lat, lon = ev.lat , ev.lon\n",
    "\n",
    "                time = ev.time + parameter[source_name]['time']\n",
    "                tmp_ev=model.Event(lat=lat, \n",
    "                                   lon=lon, \n",
    "                                   time=time,\n",
    "                                   name=tmp_name, \n",
    "                                   depth=parameter[source_name]['depth'], \n",
    "                                   elevation=None, \n",
    "                                   magnitude=parameter[source_name]['magnitude'], \n",
    "                                   moment_tensor=tmp_mt, \n",
    "                                   duration=parameter[source_name]['duration'], \n",
    "                                   tags=['sub-problem:', source_name,'frequency:' ,str(parameter[source_name][\"frequency\"]) ] )            \n",
    "                # Add event to dict events\n",
    "                events[source_name].append(tmp_ev)\n",
    "        #else:\n",
    "            #print('missing report dir \"', inv, '\" for event:',ev.name)"
   ]
  },
  {
   "cell_type": "code",
   "execution_count": 14,
   "metadata": {},
   "outputs": [
    {
     "name": "stdout",
     "output_type": "stream",
     "text": [
      "total sub events: 2\n"
     ]
    }
   ],
   "source": [
    "#events.sort(key=lambda x: x.time, reverse=False)\n",
    "print(f'total sub events: {len(events)}')\n",
    "\n",
    "# save\n",
    "for source in source_prefixes:\n",
    "    new_catalogue_path=os.path.join(catdir,new_catalogue_name + '_' + source + '.pf')   \n",
    "    model.dump_events(events[source], new_catalogue_path)\n"
   ]
  }
 ],
 "metadata": {
  "kernelspec": {
   "display_name": "Python 3",
   "language": "python",
   "name": "python3"
  },
  "language_info": {
   "codemirror_mode": {
    "name": "ipython",
    "version": 3
   },
   "file_extension": ".py",
   "mimetype": "text/x-python",
   "name": "python",
   "nbconvert_exporter": "python",
   "pygments_lexer": "ipython3",
   "version": "3.11.11"
  }
 },
 "nbformat": 4,
 "nbformat_minor": 2
}
