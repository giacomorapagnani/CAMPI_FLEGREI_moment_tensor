{
 "cells": [
  {
   "cell_type": "markdown",
   "id": "b12523c5",
   "metadata": {},
   "source": [
    "# STRAPPACAMICIA"
   ]
  },
  {
   "cell_type": "code",
   "execution_count": 12,
   "id": "84c27b6f",
   "metadata": {},
   "outputs": [],
   "source": [
    "import numpy as np\n",
    "import random"
   ]
  },
  {
   "cell_type": "code",
   "execution_count": 13,
   "id": "0e924b53",
   "metadata": {},
   "outputs": [],
   "source": [
    "def mischia_mazzo(mazzo):\n",
    "    mazzo_mischiato=[]\n",
    "    numero_carte=len(mazzo)\n",
    "    tmp = random.sample(range(0, numero_carte), numero_carte)\n",
    "    for n in tmp:\n",
    "        mazzo_mischiato.append(mazzo[n])\n",
    "    return mazzo_mischiato\n",
    "\n",
    "def gira_carta(m,m_comune):\n",
    "    carta=m[0]\n",
    "    m.pop(0)\n",
    "    m_comune.append(carta)\n",
    "    return carta,m,m_comune\n",
    "\n",
    "def numero(n):\n",
    "    return n.split()[0]"
   ]
  },
  {
   "cell_type": "code",
   "execution_count": 52,
   "id": "95cad74f",
   "metadata": {},
   "outputs": [],
   "source": [
    "# crea mazzo\n",
    "semi=[' denari'] #,' bastoni',' coppe,',' spade']\n",
    "numeri=['1','2','3','4','5','6','7','8','9','10']\n",
    "\n",
    "mazzo=[]\n",
    "for s in semi:\n",
    "    for n in numeri:\n",
    "        mazzo.append(n+s)"
   ]
  },
  {
   "cell_type": "code",
   "execution_count": 53,
   "id": "d998bf52",
   "metadata": {},
   "outputs": [],
   "source": [
    "# mischia quanto te pare\n",
    "mazzo = mischia_mazzo(mazzo)\n",
    "\n",
    "numero_carte_totali= len(semi)*len(numeri)\n",
    "mazzo_1 = mazzo[:int(numero_carte_totali/2)].copy()\n",
    "mazzo_2 = mazzo[int(numero_carte_totali/2):].copy()"
   ]
  },
  {
   "cell_type": "code",
   "execution_count": 60,
   "id": "4167c3b0",
   "metadata": {},
   "outputs": [
    {
     "data": {
      "text/plain": [
       "[]"
      ]
     },
     "execution_count": 60,
     "metadata": {},
     "output_type": "execute_result"
    }
   ],
   "source": [
    "mazzo_1"
   ]
  },
  {
   "cell_type": "code",
   "execution_count": 61,
   "id": "e8814a26",
   "metadata": {},
   "outputs": [
    {
     "data": {
      "text/plain": [
       "['4 denari']"
      ]
     },
     "execution_count": 61,
     "metadata": {},
     "output_type": "execute_result"
    }
   ],
   "source": [
    "mazzo_2"
   ]
  },
  {
   "cell_type": "code",
   "execution_count": 56,
   "id": "fdf09951",
   "metadata": {},
   "outputs": [],
   "source": [
    "mazzo_comune=[]\n",
    "numeri_potenti=['1','2','3']\n",
    "\n",
    "carta_m1,mazzo_1,mazzo_comune=gira_carta(mazzo_1,mazzo_comune)\n",
    "carta_m2,mazzo_2,mazzo_comune=gira_carta(mazzo_2,mazzo_comune)\n"
   ]
  },
  {
   "cell_type": "code",
   "execution_count": 59,
   "id": "900620f4",
   "metadata": {},
   "outputs": [
    {
     "name": "stdout",
     "output_type": "stream",
     "text": [
      "GIOCATORE 2 HA VINTO!!!\n"
     ]
    }
   ],
   "source": [
    "while numero(carta_m1) or numero(carta_m2) not in numeri_potenti:\n",
    "    carta_m1,mazzo_1,mazzo_comune=gira_carta(mazzo_1,mazzo_comune)\n",
    "    if len(mazzo_1) == 0:\n",
    "        print('GIOCATORE 2 HA VINTO!!!')\n",
    "        break\n",
    "    carta_m2,mazzo_2,mazzo_comune=gira_carta(mazzo_2,mazzo_comune)\n",
    "    if len(mazzo_2) == 0:\n",
    "        print('GIOCATORE 1 HA VINTO!!!')\n",
    "        break"
   ]
  },
  {
   "cell_type": "code",
   "execution_count": 65,
   "id": "878ebece",
   "metadata": {},
   "outputs": [
    {
     "data": {
      "text/plain": [
       "'3 denari'"
      ]
     },
     "execution_count": 65,
     "metadata": {},
     "output_type": "execute_result"
    }
   ],
   "source": [
    "carta_m1"
   ]
  },
  {
   "cell_type": "code",
   "execution_count": 66,
   "id": "903b0995",
   "metadata": {},
   "outputs": [
    {
     "data": {
      "text/plain": [
       "'9 denari'"
      ]
     },
     "execution_count": 66,
     "metadata": {},
     "output_type": "execute_result"
    }
   ],
   "source": [
    "carta_m2"
   ]
  },
  {
   "cell_type": "code",
   "execution_count": 67,
   "id": "1d99a812",
   "metadata": {},
   "outputs": [
    {
     "data": {
      "text/plain": [
       "False"
      ]
     },
     "execution_count": 67,
     "metadata": {},
     "output_type": "execute_result"
    }
   ],
   "source": [
    "(numero(carta_m1) or numero(carta_m2)) not in numeri_potenti"
   ]
  },
  {
   "cell_type": "code",
   "execution_count": 62,
   "id": "37fc9659",
   "metadata": {},
   "outputs": [
    {
     "data": {
      "text/plain": [
       "['8 denari',\n",
       " '1 denari',\n",
       " '5 denari',\n",
       " '2 denari',\n",
       " '10 denari',\n",
       " '6 denari',\n",
       " '7 denari',\n",
       " '9 denari',\n",
       " '3 denari']"
      ]
     },
     "execution_count": 62,
     "metadata": {},
     "output_type": "execute_result"
    }
   ],
   "source": [
    "mazzo_comune"
   ]
  }
 ],
 "metadata": {
  "kernelspec": {
   "display_name": "Python 3",
   "language": "python",
   "name": "python3"
  },
  "language_info": {
   "codemirror_mode": {
    "name": "ipython",
    "version": 3
   },
   "file_extension": ".py",
   "mimetype": "text/x-python",
   "name": "python",
   "nbconvert_exporter": "python",
   "pygments_lexer": "ipython3",
   "version": "3.11.11"
  }
 },
 "nbformat": 4,
 "nbformat_minor": 5
}
